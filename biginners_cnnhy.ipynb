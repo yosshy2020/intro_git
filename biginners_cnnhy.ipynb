{
  "nbformat": 4,
  "nbformat_minor": 0,
  "metadata": {
    "colab": {
      "name": "Untitled129.ipynb",
      "provenance": [],
      "collapsed_sections": [],
      "authorship_tag": "ABX9TyOGnX7w4/XlSvJW0iVE5a0p",
      "include_colab_link": true
    },
    "kernelspec": {
      "name": "python3",
      "display_name": "Python 3"
    }
  },
  "cells": [
    {
      "cell_type": "markdown",
      "metadata": {
        "id": "view-in-github",
        "colab_type": "text"
      },
      "source": [
        "<a href=\"https://colab.research.google.com/github/yosshy2020/intro_git/blob/master/biginners_cnnhy.ipynb\" target=\"_parent\"><img src=\"https://colab.research.google.com/assets/colab-badge.svg\" alt=\"Open In Colab\"/></a>"
      ]
    },
    {
      "cell_type": "code",
      "metadata": {
        "id": "5TAlt9kwHGT0",
        "colab": {
          "base_uri": "https://localhost:8080/"
        },
        "outputId": "7543b9a0-ecc7-4181-b5c8-fbd6660ae351"
      },
      "source": [
        "from google.colab import drive\n",
        "drive.mount('/content/drive')"
      ],
      "execution_count": null,
      "outputs": [
        {
          "output_type": "stream",
          "text": [
            "Drive already mounted at /content/drive; to attempt to forcibly remount, call drive.mount(\"/content/drive\", force_remount=True).\n"
          ],
          "name": "stdout"
        }
      ]
    },
    {
      "cell_type": "code",
      "metadata": {
        "colab": {
          "base_uri": "https://localhost:8080/"
        },
        "id": "nvpmIH990z49",
        "outputId": "5f724676-8c58-4585-bdd2-07694197cf4a"
      },
      "source": [
        "!pip install hyperas"
      ],
      "execution_count": null,
      "outputs": [
        {
          "output_type": "stream",
          "text": [
            "Requirement already satisfied: hyperas in /usr/local/lib/python3.6/dist-packages (0.4.1)\n",
            "Requirement already satisfied: hyperopt in /usr/local/lib/python3.6/dist-packages (from hyperas) (0.1.2)\n",
            "Requirement already satisfied: nbformat in /usr/local/lib/python3.6/dist-packages (from hyperas) (5.1.2)\n",
            "Requirement already satisfied: keras in /usr/local/lib/python3.6/dist-packages (from hyperas) (2.4.3)\n",
            "Requirement already satisfied: nbconvert in /usr/local/lib/python3.6/dist-packages (from hyperas) (5.6.1)\n",
            "Requirement already satisfied: jupyter in /usr/local/lib/python3.6/dist-packages (from hyperas) (1.0.0)\n",
            "Requirement already satisfied: entrypoints in /usr/local/lib/python3.6/dist-packages (from hyperas) (0.3)\n",
            "Requirement already satisfied: tqdm in /usr/local/lib/python3.6/dist-packages (from hyperopt->hyperas) (4.41.1)\n",
            "Requirement already satisfied: pymongo in /usr/local/lib/python3.6/dist-packages (from hyperopt->hyperas) (3.11.3)\n",
            "Requirement already satisfied: six in /usr/local/lib/python3.6/dist-packages (from hyperopt->hyperas) (1.15.0)\n",
            "Requirement already satisfied: networkx in /usr/local/lib/python3.6/dist-packages (from hyperopt->hyperas) (2.5)\n",
            "Requirement already satisfied: scipy in /usr/local/lib/python3.6/dist-packages (from hyperopt->hyperas) (1.4.1)\n",
            "Requirement already satisfied: numpy in /usr/local/lib/python3.6/dist-packages (from hyperopt->hyperas) (1.19.5)\n",
            "Requirement already satisfied: future in /usr/local/lib/python3.6/dist-packages (from hyperopt->hyperas) (0.16.0)\n",
            "Requirement already satisfied: traitlets>=4.1 in /usr/local/lib/python3.6/dist-packages (from nbformat->hyperas) (4.3.3)\n",
            "Requirement already satisfied: jupyter-core in /usr/local/lib/python3.6/dist-packages (from nbformat->hyperas) (4.7.1)\n",
            "Requirement already satisfied: jsonschema!=2.5.0,>=2.4 in /usr/local/lib/python3.6/dist-packages (from nbformat->hyperas) (2.6.0)\n",
            "Requirement already satisfied: ipython-genutils in /usr/local/lib/python3.6/dist-packages (from nbformat->hyperas) (0.2.0)\n",
            "Requirement already satisfied: pyyaml in /usr/local/lib/python3.6/dist-packages (from keras->hyperas) (3.13)\n",
            "Requirement already satisfied: h5py in /usr/local/lib/python3.6/dist-packages (from keras->hyperas) (2.10.0)\n",
            "Requirement already satisfied: testpath in /usr/local/lib/python3.6/dist-packages (from nbconvert->hyperas) (0.4.4)\n",
            "Requirement already satisfied: bleach in /usr/local/lib/python3.6/dist-packages (from nbconvert->hyperas) (3.3.0)\n",
            "Requirement already satisfied: pandocfilters>=1.4.1 in /usr/local/lib/python3.6/dist-packages (from nbconvert->hyperas) (1.4.3)\n",
            "Requirement already satisfied: jinja2>=2.4 in /usr/local/lib/python3.6/dist-packages (from nbconvert->hyperas) (2.11.3)\n",
            "Requirement already satisfied: pygments in /usr/local/lib/python3.6/dist-packages (from nbconvert->hyperas) (2.6.1)\n",
            "Requirement already satisfied: mistune<2,>=0.8.1 in /usr/local/lib/python3.6/dist-packages (from nbconvert->hyperas) (0.8.4)\n",
            "Requirement already satisfied: defusedxml in /usr/local/lib/python3.6/dist-packages (from nbconvert->hyperas) (0.6.0)\n",
            "Requirement already satisfied: notebook in /usr/local/lib/python3.6/dist-packages (from jupyter->hyperas) (5.3.1)\n",
            "Requirement already satisfied: ipykernel in /usr/local/lib/python3.6/dist-packages (from jupyter->hyperas) (4.10.1)\n",
            "Requirement already satisfied: jupyter-console in /usr/local/lib/python3.6/dist-packages (from jupyter->hyperas) (5.2.0)\n",
            "Requirement already satisfied: ipywidgets in /usr/local/lib/python3.6/dist-packages (from jupyter->hyperas) (7.6.3)\n",
            "Requirement already satisfied: qtconsole in /usr/local/lib/python3.6/dist-packages (from jupyter->hyperas) (5.0.2)\n",
            "Requirement already satisfied: decorator>=4.3.0 in /usr/local/lib/python3.6/dist-packages (from networkx->hyperopt->hyperas) (4.4.2)\n",
            "Requirement already satisfied: packaging in /usr/local/lib/python3.6/dist-packages (from bleach->nbconvert->hyperas) (20.9)\n",
            "Requirement already satisfied: webencodings in /usr/local/lib/python3.6/dist-packages (from bleach->nbconvert->hyperas) (0.5.1)\n",
            "Requirement already satisfied: MarkupSafe>=0.23 in /usr/local/lib/python3.6/dist-packages (from jinja2>=2.4->nbconvert->hyperas) (1.1.1)\n",
            "Requirement already satisfied: Send2Trash in /usr/local/lib/python3.6/dist-packages (from notebook->jupyter->hyperas) (1.5.0)\n",
            "Requirement already satisfied: tornado>=4 in /usr/local/lib/python3.6/dist-packages (from notebook->jupyter->hyperas) (5.1.1)\n",
            "Requirement already satisfied: jupyter-client>=5.2.0 in /usr/local/lib/python3.6/dist-packages (from notebook->jupyter->hyperas) (5.3.5)\n",
            "Requirement already satisfied: terminado>=0.8.1 in /usr/local/lib/python3.6/dist-packages (from notebook->jupyter->hyperas) (0.9.2)\n",
            "Requirement already satisfied: ipython>=4.0.0 in /usr/local/lib/python3.6/dist-packages (from ipykernel->jupyter->hyperas) (5.5.0)\n",
            "Requirement already satisfied: prompt-toolkit<2.0.0,>=1.0.0 in /usr/local/lib/python3.6/dist-packages (from jupyter-console->jupyter->hyperas) (1.0.18)\n",
            "Requirement already satisfied: widgetsnbextension~=3.5.0 in /usr/local/lib/python3.6/dist-packages (from ipywidgets->jupyter->hyperas) (3.5.1)\n",
            "Requirement already satisfied: jupyterlab-widgets>=1.0.0; python_version >= \"3.6\" in /usr/local/lib/python3.6/dist-packages (from ipywidgets->jupyter->hyperas) (1.0.0)\n",
            "Requirement already satisfied: pyzmq>=17.1 in /usr/local/lib/python3.6/dist-packages (from qtconsole->jupyter->hyperas) (22.0.2)\n",
            "Requirement already satisfied: qtpy in /usr/local/lib/python3.6/dist-packages (from qtconsole->jupyter->hyperas) (1.9.0)\n",
            "Requirement already satisfied: pyparsing>=2.0.2 in /usr/local/lib/python3.6/dist-packages (from packaging->bleach->nbconvert->hyperas) (2.4.7)\n",
            "Requirement already satisfied: python-dateutil>=2.1 in /usr/local/lib/python3.6/dist-packages (from jupyter-client>=5.2.0->notebook->jupyter->hyperas) (2.8.1)\n",
            "Requirement already satisfied: ptyprocess; os_name != \"nt\" in /usr/local/lib/python3.6/dist-packages (from terminado>=0.8.1->notebook->jupyter->hyperas) (0.7.0)\n",
            "Requirement already satisfied: pickleshare in /usr/local/lib/python3.6/dist-packages (from ipython>=4.0.0->ipykernel->jupyter->hyperas) (0.7.5)\n",
            "Requirement already satisfied: pexpect; sys_platform != \"win32\" in /usr/local/lib/python3.6/dist-packages (from ipython>=4.0.0->ipykernel->jupyter->hyperas) (4.8.0)\n",
            "Requirement already satisfied: setuptools>=18.5 in /usr/local/lib/python3.6/dist-packages (from ipython>=4.0.0->ipykernel->jupyter->hyperas) (53.0.0)\n",
            "Requirement already satisfied: simplegeneric>0.8 in /usr/local/lib/python3.6/dist-packages (from ipython>=4.0.0->ipykernel->jupyter->hyperas) (0.8.1)\n",
            "Requirement already satisfied: wcwidth in /usr/local/lib/python3.6/dist-packages (from prompt-toolkit<2.0.0,>=1.0.0->jupyter-console->jupyter->hyperas) (0.2.5)\n"
          ],
          "name": "stdout"
        }
      ]
    },
    {
      "cell_type": "code",
      "metadata": {
        "id": "Ov6zXexL2LcU"
      },
      "source": [
        "from hyperopt import hp\n",
        "from hyperopt import Trials, tpe\n",
        "from hyperas import optim \n",
        "from hyperas.distributions import choice, uniform"
      ],
      "execution_count": null,
      "outputs": []
    },
    {
      "cell_type": "code",
      "metadata": {
        "id": "inusc2kpLBvt"
      },
      "source": [
        "def prepare_data():\n",
        "  \n",
        "  import numpy as np\n",
        "  import pandas as pd\n",
        "  from tensorflow.keras.utils import to_categorical\n",
        "  from sklearn.model_selection import KFold\n",
        "  from sklearn.preprocessing import MinMaxScaler\n",
        "  from tensorflow.keras.models import Sequential\n",
        "  from tensorflow.keras.layers import Dense, Activation \n",
        "\n",
        "  train = pd.read_csv('/content/drive/MyDrive/biginners/train.csv')\n",
        "  test = pd.read_csv('/content/drive/MyDrive/biginners/test.csv')\n",
        "\n",
        "  all_data = pd.concat((train.loc[:,'age':'native-country'],\n",
        "                      test.loc[:,'age':'native-country']))\n",
        "  \n",
        "  all_data_df =  pd.get_dummies(all_data, columns=[\"workclass\"])\n",
        "  all_data_df =  pd.get_dummies(all_data_df, columns=[\"education\"])\n",
        "  all_data_df =  pd.get_dummies(all_data_df, columns=[\"marital-status\"])\n",
        "  all_data_df =  pd.get_dummies(all_data_df, columns=[\"occupation\"])\n",
        "  all_data_df =  pd.get_dummies(all_data_df, columns=[\"relationship\"])\n",
        "  all_data_df =  pd.get_dummies(all_data_df, columns=[\"race\"])\n",
        "  all_data_df =  pd.get_dummies(all_data_df, columns=[\"sex\"], drop_first=True)\n",
        "  all_data_df =  pd.get_dummies(all_data_df, columns=[\"native-country\"])\n",
        "\n",
        "  scaler = MinMaxScaler()\n",
        "  all_data_df[['age', 'fnlwgt', 'education-num']] = scaler.fit_transform(all_data_df[['age', 'fnlwgt', 'education-num']])\n",
        "\n",
        "  train_X = all_data_df[:train.shape[0]]\n",
        "  test_X = all_data_df[train.shape[0]:]\n",
        "  train_Y= train.Y\n",
        "\n",
        "  kf = KFold(n_splits=4, shuffle= True, random_state=123)\n",
        "  tr_idx, va_idx = list(kf.split(train_X))[0] \n",
        "\n",
        "  tr_x, va_x = train_X.iloc[tr_idx], train_X.iloc[va_idx]\n",
        "  tr_y, va_y = train_Y.iloc[tr_idx], train_Y.iloc[va_idx]\n",
        "\n",
        "  return tr_x, va_x, tr_y, va_y"
      ],
      "execution_count": null,
      "outputs": []
    },
    {
      "cell_type": "code",
      "metadata": {
        "id": "WTs1tRms7ojB"
      },
      "source": [
        "def create_model(tr_x, tr_y):\n",
        "  model = Sequential()\n",
        "\n",
        "  model.add(Dense(\n",
        "      {{choice([500, 784])}},\n",
        "      input_dim=tr_x.shape[1],\n",
        "      activation='relu'\n",
        "       ))\n",
        "  model.add(Dropout(0.4))\n",
        "\n",
        "  if {{choice(['none', 'one', 'two'])}} == 'none':\n",
        "    pass\n",
        "\n",
        "  elif {{choice(['none', 'one', 'two'])}} == 'one':\n",
        "    model.add(Dense(\n",
        "      {{choice([100, 200])}},\n",
        "      activation='relu'\n",
        "      ))\n",
        "  \n",
        "  elif {{choice(['none', 'one', 'two'])}} == 'two':\n",
        "    model.add(Dense(\n",
        "      {{choice([100, 200])}},\n",
        "      activation='relu'\n",
        "      ))\n",
        "    model.add(Dense(\n",
        "      {{choice([25, 50])}},\n",
        "      activation='relu'\n",
        "      ))\n",
        "    \n",
        "  model.add(Dense(1, activation='sigmoid'))\n",
        "\n",
        "  model.compile(\n",
        "    loss='mean_squared_error',\n",
        "    optimizer='adam',\n",
        "    metrics=['accuracy'])\n",
        "  \n",
        "  epoch =10\n",
        "  batch_size =100\n",
        "\n",
        "  result = model.fit(tr_x, tr_y,\n",
        "                   epochs=epoch,\n",
        "                   batch_size=batch_size,\n",
        "                   validation_data=(va_x, va_y),\n",
        "                   verbose=0)\n",
        "  \n",
        "  validateion_acc = np.amax(result.history['val_accuracy'])\n",
        "  print('Accuracy in search:', validation_acc)\n",
        "\n",
        "  return {'loss': -validation_acc, 'status': STATUS_OK, 'model': model}"
      ],
      "execution_count": null,
      "outputs": []
    },
    {
      "cell_type": "code",
      "metadata": {
        "colab": {
          "base_uri": "https://localhost:8080/",
          "height": 198
        },
        "id": "mdxvDnAQDfS6",
        "outputId": "f3f97cb0-4032-4377-aa8f-bdc00c18b8af"
      },
      "source": [
        "best_run, best_model = optim.minimize(model=create_model,\n",
        "                                          data=prepare_data,\n",
        "                                          algo=tpe.suggest,\n",
        "                                          max_evals=20,\n",
        "                                          notebook_name = None,\n",
        "                                          trials=trials())"
      ],
      "execution_count": null,
      "outputs": [
        {
          "output_type": "error",
          "ename": "NameError",
          "evalue": "ignored",
          "traceback": [
            "\u001b[0;31m---------------------------------------------------------------------------\u001b[0m",
            "\u001b[0;31mNameError\u001b[0m                                 Traceback (most recent call last)",
            "\u001b[0;32m<ipython-input-42-073f0526733d>\u001b[0m in \u001b[0;36m<module>\u001b[0;34m()\u001b[0m\n\u001b[1;32m      4\u001b[0m                                           \u001b[0mmax_evals\u001b[0m\u001b[0;34m=\u001b[0m\u001b[0;36m20\u001b[0m\u001b[0;34m,\u001b[0m\u001b[0;34m\u001b[0m\u001b[0;34m\u001b[0m\u001b[0m\n\u001b[1;32m      5\u001b[0m                                           \u001b[0mnotebook_name\u001b[0m \u001b[0;34m=\u001b[0m \u001b[0;32mNone\u001b[0m\u001b[0;34m,\u001b[0m\u001b[0;34m\u001b[0m\u001b[0;34m\u001b[0m\u001b[0m\n\u001b[0;32m----> 6\u001b[0;31m                                           trials=trials())\n\u001b[0m",
            "\u001b[0;31mNameError\u001b[0m: name 'trials' is not defined"
          ]
        }
      ]
    },
    {
      "cell_type": "code",
      "metadata": {
        "id": "l5zUNuSZRzo5"
      },
      "source": [
        "print(tr_x.shape)\n",
        "print(tr_y.shape)\n",
        "print(va_x.shape)\n",
        "print(_x.shape)"
      ],
      "execution_count": null,
      "outputs": []
    },
    {
      "cell_type": "code",
      "metadata": {
        "id": "s17T3wVpSWNz"
      },
      "source": [
        "from tensorflow.keras.models import Sequential\n",
        "from tensorflow.keras.layers import Dense, Activation"
      ],
      "execution_count": null,
      "outputs": []
    },
    {
      "cell_type": "code",
      "metadata": {
        "id": "8zFkzZm4iWRB"
      },
      "source": [
        "model = Sequential()\n",
        "\n",
        "model.add(Dense( 55, activation='sigmoid', input_dim=55))\n",
        "model.add(Dense(1, activation='sigmoid'))\n",
        "\n",
        "model.compile(\n",
        "    loss='mean_squared_error',\n",
        "    optimizer='adam',\n",
        "    metrics=['accuracy'])\n",
        "\n",
        "model.summary()"
      ],
      "execution_count": null,
      "outputs": []
    },
    {
      "cell_type": "code",
      "metadata": {
        "id": "GNT8d-hCN8T8"
      },
      "source": [
        "result = model.fit(tr_x, tr_y,\n",
        "                   epochs=5,\n",
        "                   batch_size=100,\n",
        "                   validation_data=(va_x, va_y),\n",
        "                   verbose=1)"
      ],
      "execution_count": null,
      "outputs": []
    },
    {
      "cell_type": "code",
      "metadata": {
        "id": "_Wyh-I2wObY7"
      },
      "source": [
        "result = model.predict(test_X)"
      ],
      "execution_count": null,
      "outputs": []
    },
    {
      "cell_type": "code",
      "metadata": {
        "id": "6G99YiD6i6YP"
      },
      "source": [
        "result"
      ],
      "execution_count": null,
      "outputs": []
    },
    {
      "cell_type": "code",
      "metadata": {
        "id": "L7-z6envfmHv"
      },
      "source": [
        "preds_cnn = (result > 0.5).astype(int)"
      ],
      "execution_count": null,
      "outputs": []
    },
    {
      "cell_type": "code",
      "metadata": {
        "id": "gcQTxMDBftPK"
      },
      "source": [
        "preds_cnn"
      ],
      "execution_count": null,
      "outputs": []
    },
    {
      "cell_type": "code",
      "metadata": {
        "id": "dZBhX7aJutAY"
      },
      "source": [
        "preds_cnn.dtype"
      ],
      "execution_count": null,
      "outputs": []
    },
    {
      "cell_type": "code",
      "metadata": {
        "id": "17dBrh6Ot76Q"
      },
      "source": [
        "preds_cnn.shape"
      ],
      "execution_count": null,
      "outputs": []
    },
    {
      "cell_type": "code",
      "metadata": {
        "id": "ucMxbUyRvFfA"
      },
      "source": [
        "preds_cnn=preds_cnn.flatten() \n",
        "preds_cnn"
      ],
      "execution_count": null,
      "outputs": []
    },
    {
      "cell_type": "code",
      "metadata": {
        "id": "Dkza-MnuhOKQ"
      },
      "source": [
        "test[\"index\"]"
      ],
      "execution_count": null,
      "outputs": []
    },
    {
      "cell_type": "code",
      "metadata": {
        "id": "TPOWbDZMhhbs"
      },
      "source": [
        "submission"
      ],
      "execution_count": null,
      "outputs": []
    },
    {
      "cell_type": "code",
      "metadata": {
        "id": "8rEGAE0Qf64v"
      },
      "source": [
        "# solutioncn=pd.DataFrame(preds_cnn, columns = [\"submission\"])"
      ],
      "execution_count": null,
      "outputs": []
    },
    {
      "cell_type": "code",
      "metadata": {
        "id": "Cn3dJXGygsHC"
      },
      "source": [
        "solutioncn = pd.DataFrame({\"index\":test[\"index\"], \"Y\":preds_cnn})"
      ],
      "execution_count": null,
      "outputs": []
    },
    {
      "cell_type": "code",
      "metadata": {
        "id": "ysdn4kz2f8QH"
      },
      "source": [
        "solutioncn"
      ],
      "execution_count": null,
      "outputs": []
    },
    {
      "cell_type": "code",
      "metadata": {
        "id": "X_hJwGKTlqBQ"
      },
      "source": [
        "solutioncn[\"Y\"].value_counts()"
      ],
      "execution_count": null,
      "outputs": []
    },
    {
      "cell_type": "code",
      "metadata": {
        "id": "AvZ3VVxWfOnL"
      },
      "source": [
        "solutioncn.to_csv('./submitcn1.csv', index=False,header=False)"
      ],
      "execution_count": null,
      "outputs": []
    },
    {
      "cell_type": "code",
      "metadata": {
        "id": "6aQJ4pWC4-ui"
      },
      "source": [
        "  submission = pd.read_csv('/content/drive/MyDrive/biginners/sample_submit.csv')"
      ],
      "execution_count": null,
      "outputs": []
    }
  ]
}