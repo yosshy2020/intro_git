{
  "nbformat": 4,
  "nbformat_minor": 0,
  "metadata": {
    "colab": {
      "name": "cat2.ipynb",
      "provenance": [],
      "authorship_tag": "ABX9TyOPsEEyHqJPGDWy+8y39WDU",
      "include_colab_link": true
    },
    "kernelspec": {
      "name": "python3",
      "display_name": "Python 3"
    }
  },
  "cells": [
    {
      "cell_type": "markdown",
      "metadata": {
        "id": "view-in-github",
        "colab_type": "text"
      },
      "source": [
        "<a href=\"https://colab.research.google.com/github/yosshy2020/intro_git/blob/master/cat2.ipynb\" target=\"_parent\"><img src=\"https://colab.research.google.com/assets/colab-badge.svg\" alt=\"Open In Colab\"/></a>"
      ]
    },
    {
      "cell_type": "code",
      "metadata": {
        "colab": {
          "base_uri": "https://localhost:8080/"
        },
        "id": "B_rUK027hmnt",
        "outputId": "6eccb9c8-8337-4518-d27e-d63ec31c5bd8"
      },
      "source": [
        "from google.colab import drive\n",
        "drive.mount('/content/drive')"
      ],
      "execution_count": 1,
      "outputs": [
        {
          "output_type": "stream",
          "text": [
            "Drive already mounted at /content/drive; to attempt to forcibly remount, call drive.mount(\"/content/drive\", force_remount=True).\n"
          ],
          "name": "stdout"
        }
      ]
    },
    {
      "cell_type": "code",
      "metadata": {
        "colab": {
          "base_uri": "https://localhost:8080/"
        },
        "id": "Qnz3JOHjfc-3",
        "outputId": "7cbf78c6-7ddc-49c6-acd7-a0d0ebb87403"
      },
      "source": [
        "pip install catboost"
      ],
      "execution_count": 2,
      "outputs": [
        {
          "output_type": "stream",
          "text": [
            "Requirement already satisfied: catboost in /usr/local/lib/python3.6/dist-packages (0.24.4)\n",
            "Requirement already satisfied: numpy>=1.16.0 in /usr/local/lib/python3.6/dist-packages (from catboost) (1.19.5)\n",
            "Requirement already satisfied: pandas>=0.24.0 in /usr/local/lib/python3.6/dist-packages (from catboost) (1.1.5)\n",
            "Requirement already satisfied: plotly in /usr/local/lib/python3.6/dist-packages (from catboost) (4.4.1)\n",
            "Requirement already satisfied: six in /usr/local/lib/python3.6/dist-packages (from catboost) (1.15.0)\n",
            "Requirement already satisfied: matplotlib in /usr/local/lib/python3.6/dist-packages (from catboost) (3.2.2)\n",
            "Requirement already satisfied: scipy in /usr/local/lib/python3.6/dist-packages (from catboost) (1.4.1)\n",
            "Requirement already satisfied: graphviz in /usr/local/lib/python3.6/dist-packages (from catboost) (0.10.1)\n",
            "Requirement already satisfied: python-dateutil>=2.7.3 in /usr/local/lib/python3.6/dist-packages (from pandas>=0.24.0->catboost) (2.8.1)\n",
            "Requirement already satisfied: pytz>=2017.2 in /usr/local/lib/python3.6/dist-packages (from pandas>=0.24.0->catboost) (2018.9)\n",
            "Requirement already satisfied: retrying>=1.3.3 in /usr/local/lib/python3.6/dist-packages (from plotly->catboost) (1.3.3)\n",
            "Requirement already satisfied: pyparsing!=2.0.4,!=2.1.2,!=2.1.6,>=2.0.1 in /usr/local/lib/python3.6/dist-packages (from matplotlib->catboost) (2.4.7)\n",
            "Requirement already satisfied: kiwisolver>=1.0.1 in /usr/local/lib/python3.6/dist-packages (from matplotlib->catboost) (1.3.1)\n",
            "Requirement already satisfied: cycler>=0.10 in /usr/local/lib/python3.6/dist-packages (from matplotlib->catboost) (0.10.0)\n"
          ],
          "name": "stdout"
        }
      ]
    },
    {
      "cell_type": "code",
      "metadata": {
        "id": "yokqzSA3iLOg"
      },
      "source": [
        "import pandas as pd\n",
        "import pandas_profiling\n",
        "import numpy as np\n",
        "import matplotlib.pyplot as plt\n",
        "import scipy.optimize as optimize\n",
        "from scipy.stats import skew\n",
        "from sklearn.preprocessing import LabelEncoder\n",
        "import lightgbm as lgb\n",
        "from sklearn.model_selection import train_test_split\n",
        "from sklearn.model_selection import KFold\n",
        "from sklearn.metrics import accuracy_score\n",
        "import xgboost as xgb\n",
        "from catboost import Pool, CatBoostRegressor\n",
        "%matplotlib inline\n",
        "\n",
        "train = pd.read_csv('/content/drive/MyDrive/biginners/train.csv')\n",
        "test = pd.read_csv('/content/drive/MyDrive/biginners/test.csv')\n",
        "submission = pd.read_csv('/content/drive/MyDrive/biginners/sample_submit.csv')"
      ],
      "execution_count": 3,
      "outputs": []
    },
    {
      "cell_type": "code",
      "metadata": {
        "colab": {
          "base_uri": "https://localhost:8080/"
        },
        "id": "G6EJGVlaiuY3",
        "outputId": "c9651ff2-9fd2-458a-c7be-1fdb8c8d44f4"
      },
      "source": [
        "train.info()"
      ],
      "execution_count": 4,
      "outputs": [
        {
          "output_type": "stream",
          "text": [
            "<class 'pandas.core.frame.DataFrame'>\n",
            "RangeIndex: 11900 entries, 0 to 11899\n",
            "Data columns (total 13 columns):\n",
            " #   Column          Non-Null Count  Dtype \n",
            "---  ------          --------------  ----- \n",
            " 0   index           11900 non-null  int64 \n",
            " 1   age             11900 non-null  int64 \n",
            " 2   workclass       11900 non-null  object\n",
            " 3   fnlwgt          11900 non-null  int64 \n",
            " 4   education       11900 non-null  object\n",
            " 5   education-num   11900 non-null  int64 \n",
            " 6   marital-status  11900 non-null  object\n",
            " 7   occupation      11900 non-null  object\n",
            " 8   relationship    11900 non-null  object\n",
            " 9   race            11900 non-null  object\n",
            " 10  sex             11900 non-null  object\n",
            " 11  native-country  11900 non-null  object\n",
            " 12  Y               11900 non-null  int64 \n",
            "dtypes: int64(5), object(8)\n",
            "memory usage: 1.2+ MB\n"
          ],
          "name": "stdout"
        }
      ]
    },
    {
      "cell_type": "code",
      "metadata": {
        "id": "EQ4_CkXhi1YE"
      },
      "source": [
        "all_data = pd.concat((train.loc[:,'age':'native-country'],\n",
        "                      test.loc[:,'age':'native-country']))"
      ],
      "execution_count": 5,
      "outputs": []
    },
    {
      "cell_type": "code",
      "metadata": {
        "id": "5yTkjYVTkiW5"
      },
      "source": [
        "# fnlwgtクラス\n",
        "all_data = all_data.replace({'fnlwgt':[24694]}, 0)\n",
        "all_data = all_data.replace({'fnlwgt':[132652]}, 1)\n",
        "all_data = all_data.replace({'fnlwgt':[34572]}, 2)"
      ],
      "execution_count": 6,
      "outputs": []
    },
    {
      "cell_type": "code",
      "metadata": {
        "id": "fShjqyr8i9Az"
      },
      "source": [
        "all_data = all_data.drop([\n",
        "                          # \"workclass\",\n",
        "                          \"education-num\",\n",
        "                          # \"sex\",\n",
        "                          \"race\"\n",
        "                          ], axis=1)"
      ],
      "execution_count": 7,
      "outputs": []
    },
    {
      "cell_type": "code",
      "metadata": {
        "colab": {
          "base_uri": "https://localhost:8080/"
        },
        "id": "m39SZJPRjnu1",
        "outputId": "774a07d2-11c6-4a40-f5f3-c1cb0f152dd3"
      },
      "source": [
        "all_data.columns"
      ],
      "execution_count": 8,
      "outputs": [
        {
          "output_type": "execute_result",
          "data": {
            "text/plain": [
              "Index(['age', 'workclass', 'fnlwgt', 'education', 'marital-status',\n",
              "       'occupation', 'relationship', 'sex', 'native-country'],\n",
              "      dtype='object')"
            ]
          },
          "metadata": {
            "tags": []
          },
          "execution_count": 8
        }
      ]
    },
    {
      "cell_type": "code",
      "metadata": {
        "colab": {
          "base_uri": "https://localhost:8080/"
        },
        "id": "Mg14d2gKj6m6",
        "outputId": "3fe10477-0e13-42a3-b567-ae7b42c80fca"
      },
      "source": [
        "categories = all_data.columns[all_data.dtypes == 'object']\n",
        "categories"
      ],
      "execution_count": 9,
      "outputs": [
        {
          "output_type": "execute_result",
          "data": {
            "text/plain": [
              "Index(['workclass', 'education', 'marital-status', 'occupation',\n",
              "       'relationship', 'sex', 'native-country'],\n",
              "      dtype='object')"
            ]
          },
          "metadata": {
            "tags": []
          },
          "execution_count": 9
        }
      ]
    },
    {
      "cell_type": "code",
      "metadata": {
        "colab": {
          "base_uri": "https://localhost:8080/"
        },
        "id": "FN0NLznUkMrP",
        "outputId": "8ab92568-b334-4404-c45c-85b2b3848056"
      },
      "source": [
        "le = LabelEncoder()\n",
        "\n",
        "for cat in categories:\n",
        "  le = LabelEncoder()\n",
        "  print(cat)\n",
        "  if all_data[cat].dtypes == \"object\":\n",
        "    le = le.fit(all_data[cat])\n",
        "    all_data[cat] = le.transform(all_data[cat])"
      ],
      "execution_count": 10,
      "outputs": [
        {
          "output_type": "stream",
          "text": [
            "workclass\n",
            "education\n",
            "marital-status\n",
            "occupation\n",
            "relationship\n",
            "sex\n",
            "native-country\n"
          ],
          "name": "stdout"
        }
      ]
    },
    {
      "cell_type": "code",
      "metadata": {
        "id": "1-7FUpadzITS"
      },
      "source": [
        "train_X = all_data[:train.shape[0]]\n",
        "test_X = all_data[train.shape[0]:]\n",
        "train_Y= train.Y"
      ],
      "execution_count": 11,
      "outputs": []
    },
    {
      "cell_type": "code",
      "metadata": {
        "id": "edfsOWF91KUs"
      },
      "source": [
        "folds = 5\n",
        "kf = KFold(n_splits=folds, shuffle=True)"
      ],
      "execution_count": 12,
      "outputs": []
    },
    {
      "cell_type": "code",
      "metadata": {
        "id": "0K4Wl-M47ZAC"
      },
      "source": [
        "categories = ['fnlwgt', 'education', 'marital-status', 'occupation',\n",
        "       'relationship', 'native-country']"
      ],
      "execution_count": 13,
      "outputs": []
    },
    {
      "cell_type": "code",
      "metadata": {
        "colab": {
          "base_uri": "https://localhost:8080/"
        },
        "id": "bui2TJ9XM27F",
        "outputId": "cf5845a7-1f92-48d0-89dc-2820f93883c3"
      },
      "source": [
        "for col in categories:\n",
        "  train_X[col] = train_X[col].astype(\"int8\")\n",
        "  test_X[col]  = test_X[col].astype(\"int8\")"
      ],
      "execution_count": 14,
      "outputs": [
        {
          "output_type": "stream",
          "text": [
            "/usr/local/lib/python3.6/dist-packages/ipykernel_launcher.py:2: SettingWithCopyWarning: \n",
            "A value is trying to be set on a copy of a slice from a DataFrame.\n",
            "Try using .loc[row_indexer,col_indexer] = value instead\n",
            "\n",
            "See the caveats in the documentation: https://pandas.pydata.org/pandas-docs/stable/user_guide/indexing.html#returning-a-view-versus-a-copy\n",
            "  \n",
            "/usr/local/lib/python3.6/dist-packages/ipykernel_launcher.py:3: SettingWithCopyWarning: \n",
            "A value is trying to be set on a copy of a slice from a DataFrame.\n",
            "Try using .loc[row_indexer,col_indexer] = value instead\n",
            "\n",
            "See the caveats in the documentation: https://pandas.pydata.org/pandas-docs/stable/user_guide/indexing.html#returning-a-view-versus-a-copy\n",
            "  This is separate from the ipykernel package so we can avoid doing imports until\n"
          ],
          "name": "stderr"
        }
      ]
    },
    {
      "cell_type": "code",
      "metadata": {
        "id": "6XbMnYDMaOen"
      },
      "source": [
        "# params = {\n",
        "#         'leaf_estimation_method': 'Gradient',\n",
        "#         'learning_rate': 0.1,\n",
        "#         'max_depth': 3,\n",
        "#         'bootstrap_type': 'Bernoulli',\n",
        "#         'objective': 'MultiClass',\n",
        "#         'eval_metric': 'MultiClass',\n",
        "#         'subsample': 0.8,\n",
        "#         'random_state': 1234,\n",
        "#         'verbose': 20}"
      ],
      "execution_count": 15,
      "outputs": []
    },
    {
      "cell_type": "code",
      "metadata": {
        "id": "gDKwxKulkAZZ"
      },
      "source": [
        "# params = {\n",
        "#     'boosting_type': 'gbdt',\n",
        "#     'objective':'regression',\n",
        "#     'learning_rate': 0.05,\n",
        "#     #'is_unbalance': 'true',  #because training data is unbalance (replaced with scale_pos_weight)\n",
        "#     'num_leaves': 31,  # we should let it be smaller than 2^(max_depth)\n",
        "#     'max_depth': -1,  # -1 means no limit\n",
        "#     'min_child_samples': 20,  # Minimum number of data need in a child(min_data_in_leaf)\n",
        "#     'max_bin': 255,  # Number of bucketed bin for feature values\n",
        "#     'subsample': 0.6,  # Subsample ratio of the training instance.\n",
        "#     # 'subsample_freq': 0,  # frequence of subsample, <=0 means no enable\n",
        "#     # 'colsample_bytree': 0.3,  # Subsample ratio of columns when constructing each tree.\n",
        "#     # 'min_child_weight': 5,  # Minimum sum of instance weight(hessian) needed in a child(leaf)\n",
        "#     # 'subsample_for_bin': 200000,  # Number of samples for constructing bin\n",
        "#     # 'min_split_gain': 0,  # lambda_l1, lambda_l2 and min_gain_to_split to regularization\n",
        "#     # 'reg_alpha': 0,  # L1 regularization term on weights\n",
        "#     'reg_lambda': 0,  # L2 regularization term on weights\n",
        "#     # 'nthread': 8,\n",
        "#     'verbose': 10,\n",
        "# }"
      ],
      "execution_count": 16,
      "outputs": []
    },
    {
      "cell_type": "code",
      "metadata": {
        "id": "ryBKu_2XHc08"
      },
      "source": [
        " params = {\n",
        "        'iterations' : 125,                         \n",
        "        'depth' : 4,                                       \n",
        "        'learning_rate' : 0.2999453264309889,               \n",
        "        'random_strength' :31,                       \n",
        "        'bagging_temperature' :29.043339885326265, \n",
        "        'od_type': 'Iter', \n",
        "        'od_wait' :31,\n",
        "    }"
      ],
      "execution_count": 17,
      "outputs": []
    },
    {
      "cell_type": "code",
      "metadata": {
        "id": "7en7pMsOHzuK"
      },
      "source": [
        "model = CatBoostRegressor(**params)"
      ],
      "execution_count": 18,
      "outputs": []
    },
    {
      "cell_type": "code",
      "metadata": {
        "colab": {
          "base_uri": "https://localhost:8080/"
        },
        "id": "X6u-8-voH7WY",
        "outputId": "bdc62d2e-fa95-437a-b582-aaa613ce0657"
      },
      "source": [
        "models = [ ]\n",
        "accuracy =[ ]\n",
        "\n",
        "for train_index, val_index in kf.split(train_X):\n",
        "  X_train =train_X.iloc[train_index]\n",
        "  X_valid =train_X.iloc[val_index]\n",
        "  y_train =train_Y.iloc[train_index]\n",
        "  y_valid =train_Y.iloc[val_index]\n",
        "\n",
        "  model.fit(X_train, y_train, \n",
        "          early_stopping_rounds=50,\n",
        "          verbose_eval=10,) \n",
        "  \n",
        "  y_pred = model.predict(X_valid)\n",
        "  print(accuracy_score(y_valid, np.round(y_pred)))\n",
        "  accuracy.append(accuracy_score(y_valid, np.round(y_pred)))\n",
        "\n",
        "\n",
        "  models.append(model)"
      ],
      "execution_count": 19,
      "outputs": [
        {
          "output_type": "stream",
          "text": [
            "0:\tlearn: 0.4205602\ttotal: 49.9ms\tremaining: 6.19s\n",
            "10:\tlearn: 0.3734851\ttotal: 69.5ms\tremaining: 721ms\n",
            "20:\tlearn: 0.3595956\ttotal: 88.7ms\tremaining: 439ms\n",
            "30:\tlearn: 0.3571115\ttotal: 103ms\tremaining: 312ms\n",
            "40:\tlearn: 0.3468971\ttotal: 125ms\tremaining: 256ms\n",
            "50:\tlearn: 0.3368840\ttotal: 147ms\tremaining: 214ms\n",
            "60:\tlearn: 0.3327389\ttotal: 167ms\tremaining: 175ms\n",
            "70:\tlearn: 0.3302547\ttotal: 185ms\tremaining: 141ms\n",
            "80:\tlearn: 0.3285447\ttotal: 207ms\tremaining: 113ms\n",
            "90:\tlearn: 0.3270324\ttotal: 228ms\tremaining: 85.2ms\n",
            "100:\tlearn: 0.3259075\ttotal: 249ms\tremaining: 59.1ms\n",
            "110:\tlearn: 0.3246546\ttotal: 270ms\tremaining: 34.1ms\n",
            "120:\tlearn: 0.3236743\ttotal: 288ms\tremaining: 9.53ms\n",
            "124:\tlearn: 0.3232461\ttotal: 295ms\tremaining: 0us\n",
            "0.8457983193277311\n",
            "0:\tlearn: 0.4231264\ttotal: 1.85ms\tremaining: 230ms\n",
            "10:\tlearn: 0.3742696\ttotal: 20.7ms\tremaining: 215ms\n",
            "20:\tlearn: 0.3604212\ttotal: 40.3ms\tremaining: 199ms\n",
            "30:\tlearn: 0.3577917\ttotal: 62.6ms\tremaining: 190ms\n",
            "40:\tlearn: 0.3475681\ttotal: 83.6ms\tremaining: 171ms\n",
            "50:\tlearn: 0.3375629\ttotal: 110ms\tremaining: 160ms\n",
            "60:\tlearn: 0.3334946\ttotal: 137ms\tremaining: 144ms\n",
            "70:\tlearn: 0.3304417\ttotal: 156ms\tremaining: 119ms\n",
            "80:\tlearn: 0.3287733\ttotal: 174ms\tremaining: 94.8ms\n",
            "90:\tlearn: 0.3270419\ttotal: 193ms\tremaining: 72.3ms\n",
            "100:\tlearn: 0.3252821\ttotal: 214ms\tremaining: 50.8ms\n",
            "110:\tlearn: 0.3242237\ttotal: 235ms\tremaining: 29.6ms\n",
            "120:\tlearn: 0.3231662\ttotal: 250ms\tremaining: 8.28ms\n",
            "124:\tlearn: 0.3228073\ttotal: 258ms\tremaining: 0us\n",
            "0.8415966386554622\n",
            "0:\tlearn: 0.4219697\ttotal: 1.97ms\tremaining: 245ms\n",
            "10:\tlearn: 0.3712810\ttotal: 23.2ms\tremaining: 240ms\n",
            "20:\tlearn: 0.3576000\ttotal: 41.4ms\tremaining: 205ms\n",
            "30:\tlearn: 0.3545407\ttotal: 58.8ms\tremaining: 178ms\n",
            "40:\tlearn: 0.3443957\ttotal: 82.5ms\tremaining: 169ms\n",
            "50:\tlearn: 0.3349267\ttotal: 116ms\tremaining: 169ms\n",
            "60:\tlearn: 0.3314664\ttotal: 135ms\tremaining: 142ms\n",
            "70:\tlearn: 0.3291615\ttotal: 153ms\tremaining: 116ms\n",
            "80:\tlearn: 0.3272135\ttotal: 177ms\tremaining: 96ms\n",
            "90:\tlearn: 0.3255776\ttotal: 196ms\tremaining: 73.4ms\n",
            "100:\tlearn: 0.3243408\ttotal: 223ms\tremaining: 53.1ms\n",
            "110:\tlearn: 0.3230843\ttotal: 243ms\tremaining: 30.6ms\n",
            "120:\tlearn: 0.3220052\ttotal: 267ms\tremaining: 8.82ms\n",
            "124:\tlearn: 0.3217182\ttotal: 280ms\tremaining: 0us\n",
            "0.8378151260504202\n",
            "0:\tlearn: 0.4207763\ttotal: 1.5ms\tremaining: 187ms\n",
            "10:\tlearn: 0.3725255\ttotal: 19.4ms\tremaining: 201ms\n",
            "20:\tlearn: 0.3586938\ttotal: 47.8ms\tremaining: 237ms\n",
            "30:\tlearn: 0.3559937\ttotal: 63.4ms\tremaining: 192ms\n",
            "40:\tlearn: 0.3456798\ttotal: 80.6ms\tremaining: 165ms\n",
            "50:\tlearn: 0.3364576\ttotal: 101ms\tremaining: 147ms\n",
            "60:\tlearn: 0.3332271\ttotal: 122ms\tremaining: 128ms\n",
            "70:\tlearn: 0.3305817\ttotal: 143ms\tremaining: 109ms\n",
            "80:\tlearn: 0.3287574\ttotal: 164ms\tremaining: 89ms\n",
            "90:\tlearn: 0.3269717\ttotal: 181ms\tremaining: 67.5ms\n",
            "100:\tlearn: 0.3255972\ttotal: 201ms\tremaining: 47.8ms\n",
            "110:\tlearn: 0.3244807\ttotal: 221ms\tremaining: 27.8ms\n",
            "120:\tlearn: 0.3235144\ttotal: 237ms\tremaining: 7.82ms\n",
            "124:\tlearn: 0.3231473\ttotal: 247ms\tremaining: 0us\n",
            "0.846218487394958\n",
            "0:\tlearn: 0.4224024\ttotal: 1.73ms\tremaining: 215ms\n",
            "10:\tlearn: 0.3715186\ttotal: 18.2ms\tremaining: 189ms\n",
            "20:\tlearn: 0.3572818\ttotal: 31.9ms\tremaining: 158ms\n",
            "30:\tlearn: 0.3542830\ttotal: 49.4ms\tremaining: 150ms\n",
            "40:\tlearn: 0.3439891\ttotal: 73.7ms\tremaining: 151ms\n",
            "50:\tlearn: 0.3338321\ttotal: 95.2ms\tremaining: 138ms\n",
            "60:\tlearn: 0.3299513\ttotal: 113ms\tremaining: 119ms\n",
            "70:\tlearn: 0.3274413\ttotal: 133ms\tremaining: 101ms\n",
            "80:\tlearn: 0.3251238\ttotal: 153ms\tremaining: 83.2ms\n",
            "90:\tlearn: 0.3235264\ttotal: 177ms\tremaining: 66.1ms\n",
            "100:\tlearn: 0.3221623\ttotal: 198ms\tremaining: 46.9ms\n",
            "110:\tlearn: 0.3209845\ttotal: 215ms\tremaining: 27.2ms\n",
            "120:\tlearn: 0.3196061\ttotal: 235ms\tremaining: 7.77ms\n",
            "124:\tlearn: 0.3191760\ttotal: 242ms\tremaining: 0us\n",
            "0.823109243697479\n"
          ],
          "name": "stdout"
        }
      ]
    },
    {
      "cell_type": "code",
      "metadata": {
        "colab": {
          "base_uri": "https://localhost:8080/"
        },
        "id": "3AbqF_If-XRW",
        "outputId": "783581e2-4cde-4ef7-8d38-ccf28592daaf"
      },
      "source": [
        "print('accuracy:{}'.format(np.mean(accuracy)))"
      ],
      "execution_count": 20,
      "outputs": [
        {
          "output_type": "stream",
          "text": [
            "accuracy:0.8389075630252101\n"
          ],
          "name": "stdout"
        }
      ]
    }
  ]
}