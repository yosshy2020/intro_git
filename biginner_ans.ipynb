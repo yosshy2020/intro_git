{
  "nbformat": 4,
  "nbformat_minor": 0,
  "metadata": {
    "colab": {
      "name": "Untitled129.ipynb",
      "provenance": [],
      "collapsed_sections": [],
      "authorship_tag": "ABX9TyOg7FQ7X9vtbahPLRPpS5vP",
      "include_colab_link": true
    },
    "kernelspec": {
      "name": "python3",
      "display_name": "Python 3"
    }
  },
  "cells": [
    {
      "cell_type": "markdown",
      "metadata": {
        "id": "view-in-github",
        "colab_type": "text"
      },
      "source": [
        "<a href=\"https://colab.research.google.com/github/yosshy2020/intro_git/blob/master/biginner_ans.ipynb\" target=\"_parent\"><img src=\"https://colab.research.google.com/assets/colab-badge.svg\" alt=\"Open In Colab\"/></a>"
      ]
    },
    {
      "cell_type": "code",
      "metadata": {
        "id": "5TAlt9kwHGT0",
        "colab": {
          "base_uri": "https://localhost:8080/"
        },
        "outputId": "ff01bcf7-be44-4398-9ba0-1b314df96252"
      },
      "source": [
        "from google.colab import drive\n",
        "drive.mount('/content/drive')"
      ],
      "execution_count": 1,
      "outputs": [
        {
          "output_type": "stream",
          "text": [
            "Drive already mounted at /content/drive; to attempt to forcibly remount, call drive.mount(\"/content/drive\", force_remount=True).\n"
          ],
          "name": "stdout"
        }
      ]
    },
    {
      "cell_type": "code",
      "metadata": {
        "colab": {
          "base_uri": "https://localhost:8080/"
        },
        "id": "inusc2kpLBvt",
        "outputId": "5d97d4c8-e787-444a-f932-db41eec582d5"
      },
      "source": [
        "import pandas as pd\n",
        "import pandas_profiling\n",
        "import numpy as np\n",
        "import matplotlib.pyplot as plt\n",
        "import scipy.optimize as optimize\n",
        "from scipy.stats import skew\n",
        "%matplotlib inline\n",
        "\n",
        "train = pd.read_csv('/content/drive/MyDrive/biginners/train.csv')\n",
        "test = pd.read_csv('/content/drive/MyDrive/biginners/test.csv')\n",
        "submission = pd.read_csv('/content/drive/MyDrive/biginners/sample_submit.csv')\n",
        "print('train.shape:', train.shape)\n",
        "print('test.df.shape:', test.shape)"
      ],
      "execution_count": 2,
      "outputs": [
        {
          "output_type": "stream",
          "text": [
            "train.shape: (11900, 13)\n",
            "test.df.shape: (5100, 12)\n"
          ],
          "name": "stdout"
        }
      ]
    },
    {
      "cell_type": "code",
      "metadata": {
        "colab": {
          "base_uri": "https://localhost:8080/",
          "height": 657
        },
        "id": "j_T9EIZQUrxV",
        "outputId": "99144c70-8584-4e15-dc71-6e5614dab663"
      },
      "source": [
        "train"
      ],
      "execution_count": 3,
      "outputs": [
        {
          "output_type": "execute_result",
          "data": {
            "text/html": [
              "<div>\n",
              "<style scoped>\n",
              "    .dataframe tbody tr th:only-of-type {\n",
              "        vertical-align: middle;\n",
              "    }\n",
              "\n",
              "    .dataframe tbody tr th {\n",
              "        vertical-align: top;\n",
              "    }\n",
              "\n",
              "    .dataframe thead th {\n",
              "        text-align: right;\n",
              "    }\n",
              "</style>\n",
              "<table border=\"1\" class=\"dataframe\">\n",
              "  <thead>\n",
              "    <tr style=\"text-align: right;\">\n",
              "      <th></th>\n",
              "      <th>index</th>\n",
              "      <th>age</th>\n",
              "      <th>workclass</th>\n",
              "      <th>fnlwgt</th>\n",
              "      <th>education</th>\n",
              "      <th>education-num</th>\n",
              "      <th>marital-status</th>\n",
              "      <th>occupation</th>\n",
              "      <th>relationship</th>\n",
              "      <th>race</th>\n",
              "      <th>sex</th>\n",
              "      <th>native-country</th>\n",
              "      <th>Y</th>\n",
              "    </tr>\n",
              "  </thead>\n",
              "  <tbody>\n",
              "    <tr>\n",
              "      <th>0</th>\n",
              "      <td>322</td>\n",
              "      <td>21</td>\n",
              "      <td>Private</td>\n",
              "      <td>132652</td>\n",
              "      <td>Some-college</td>\n",
              "      <td>10</td>\n",
              "      <td>Divorced</td>\n",
              "      <td>Adm-clerical</td>\n",
              "      <td>Own-child</td>\n",
              "      <td>White</td>\n",
              "      <td>Female</td>\n",
              "      <td>United-States</td>\n",
              "      <td>0</td>\n",
              "    </tr>\n",
              "    <tr>\n",
              "      <th>1</th>\n",
              "      <td>11968</td>\n",
              "      <td>29</td>\n",
              "      <td>Private</td>\n",
              "      <td>132652</td>\n",
              "      <td>HS-grad</td>\n",
              "      <td>9</td>\n",
              "      <td>Divorced</td>\n",
              "      <td>Adm-clerical</td>\n",
              "      <td>Not-in-family</td>\n",
              "      <td>White</td>\n",
              "      <td>Female</td>\n",
              "      <td>United-States</td>\n",
              "      <td>0</td>\n",
              "    </tr>\n",
              "    <tr>\n",
              "      <th>2</th>\n",
              "      <td>10868</td>\n",
              "      <td>19</td>\n",
              "      <td>Private</td>\n",
              "      <td>132652</td>\n",
              "      <td>Bachelors</td>\n",
              "      <td>13</td>\n",
              "      <td>Never-married</td>\n",
              "      <td>Prof-specialty</td>\n",
              "      <td>Not-in-family</td>\n",
              "      <td>White</td>\n",
              "      <td>Female</td>\n",
              "      <td>United-States</td>\n",
              "      <td>0</td>\n",
              "    </tr>\n",
              "    <tr>\n",
              "      <th>3</th>\n",
              "      <td>3394</td>\n",
              "      <td>17</td>\n",
              "      <td>Private</td>\n",
              "      <td>132652</td>\n",
              "      <td>HS-grad</td>\n",
              "      <td>9</td>\n",
              "      <td>Never-married</td>\n",
              "      <td>Craft-repair</td>\n",
              "      <td>Own-child</td>\n",
              "      <td>White</td>\n",
              "      <td>Male</td>\n",
              "      <td>United-States</td>\n",
              "      <td>0</td>\n",
              "    </tr>\n",
              "    <tr>\n",
              "      <th>4</th>\n",
              "      <td>15993</td>\n",
              "      <td>47</td>\n",
              "      <td>Private</td>\n",
              "      <td>132652</td>\n",
              "      <td>Some-college</td>\n",
              "      <td>10</td>\n",
              "      <td>Married-civ-spouse</td>\n",
              "      <td>Craft-repair</td>\n",
              "      <td>Husband</td>\n",
              "      <td>White</td>\n",
              "      <td>Male</td>\n",
              "      <td>United-States</td>\n",
              "      <td>0</td>\n",
              "    </tr>\n",
              "    <tr>\n",
              "      <th>...</th>\n",
              "      <td>...</td>\n",
              "      <td>...</td>\n",
              "      <td>...</td>\n",
              "      <td>...</td>\n",
              "      <td>...</td>\n",
              "      <td>...</td>\n",
              "      <td>...</td>\n",
              "      <td>...</td>\n",
              "      <td>...</td>\n",
              "      <td>...</td>\n",
              "      <td>...</td>\n",
              "      <td>...</td>\n",
              "      <td>...</td>\n",
              "    </tr>\n",
              "    <tr>\n",
              "      <th>11895</th>\n",
              "      <td>9225</td>\n",
              "      <td>23</td>\n",
              "      <td>Private</td>\n",
              "      <td>132652</td>\n",
              "      <td>HS-grad</td>\n",
              "      <td>9</td>\n",
              "      <td>Married-civ-spouse</td>\n",
              "      <td>Sales</td>\n",
              "      <td>Wife</td>\n",
              "      <td>White</td>\n",
              "      <td>Female</td>\n",
              "      <td>United-States</td>\n",
              "      <td>0</td>\n",
              "    </tr>\n",
              "    <tr>\n",
              "      <th>11896</th>\n",
              "      <td>13123</td>\n",
              "      <td>31</td>\n",
              "      <td>Private</td>\n",
              "      <td>132652</td>\n",
              "      <td>HS-grad</td>\n",
              "      <td>9</td>\n",
              "      <td>Divorced</td>\n",
              "      <td>Other-service</td>\n",
              "      <td>Unmarried</td>\n",
              "      <td>Black</td>\n",
              "      <td>Female</td>\n",
              "      <td>United-States</td>\n",
              "      <td>0</td>\n",
              "    </tr>\n",
              "    <tr>\n",
              "      <th>11897</th>\n",
              "      <td>9845</td>\n",
              "      <td>21</td>\n",
              "      <td>Private</td>\n",
              "      <td>132652</td>\n",
              "      <td>HS-grad</td>\n",
              "      <td>9</td>\n",
              "      <td>Never-married</td>\n",
              "      <td>Other-service</td>\n",
              "      <td>Own-child</td>\n",
              "      <td>White</td>\n",
              "      <td>Male</td>\n",
              "      <td>United-States</td>\n",
              "      <td>0</td>\n",
              "    </tr>\n",
              "    <tr>\n",
              "      <th>11898</th>\n",
              "      <td>10799</td>\n",
              "      <td>29</td>\n",
              "      <td>Private</td>\n",
              "      <td>132652</td>\n",
              "      <td>Bachelors</td>\n",
              "      <td>13</td>\n",
              "      <td>Never-married</td>\n",
              "      <td>Machine-op-inspct</td>\n",
              "      <td>Not-in-family</td>\n",
              "      <td>White</td>\n",
              "      <td>Male</td>\n",
              "      <td>United-States</td>\n",
              "      <td>0</td>\n",
              "    </tr>\n",
              "    <tr>\n",
              "      <th>11899</th>\n",
              "      <td>2732</td>\n",
              "      <td>17</td>\n",
              "      <td>Private</td>\n",
              "      <td>132652</td>\n",
              "      <td>HS-grad</td>\n",
              "      <td>9</td>\n",
              "      <td>Married-civ-spouse</td>\n",
              "      <td>Tech-support</td>\n",
              "      <td>Husband</td>\n",
              "      <td>White</td>\n",
              "      <td>Male</td>\n",
              "      <td>United-States</td>\n",
              "      <td>1</td>\n",
              "    </tr>\n",
              "  </tbody>\n",
              "</table>\n",
              "<p>11900 rows × 13 columns</p>\n",
              "</div>"
            ],
            "text/plain": [
              "       index  age workclass  fnlwgt  ...   race     sex native-country  Y\n",
              "0        322   21   Private  132652  ...  White  Female  United-States  0\n",
              "1      11968   29   Private  132652  ...  White  Female  United-States  0\n",
              "2      10868   19   Private  132652  ...  White  Female  United-States  0\n",
              "3       3394   17   Private  132652  ...  White    Male  United-States  0\n",
              "4      15993   47   Private  132652  ...  White    Male  United-States  0\n",
              "...      ...  ...       ...     ...  ...    ...     ...            ... ..\n",
              "11895   9225   23   Private  132652  ...  White  Female  United-States  0\n",
              "11896  13123   31   Private  132652  ...  Black  Female  United-States  0\n",
              "11897   9845   21   Private  132652  ...  White    Male  United-States  0\n",
              "11898  10799   29   Private  132652  ...  White    Male  United-States  0\n",
              "11899   2732   17   Private  132652  ...  White    Male  United-States  1\n",
              "\n",
              "[11900 rows x 13 columns]"
            ]
          },
          "metadata": {
            "tags": []
          },
          "execution_count": 3
        }
      ]
    },
    {
      "cell_type": "code",
      "metadata": {
        "colab": {
          "base_uri": "https://localhost:8080/",
          "height": 606
        },
        "id": "Ly-0AY3yYMbp",
        "outputId": "aeee90e5-085c-41d6-93d7-c0b2403c14e2"
      },
      "source": [
        "test"
      ],
      "execution_count": 4,
      "outputs": [
        {
          "output_type": "execute_result",
          "data": {
            "text/html": [
              "<div>\n",
              "<style scoped>\n",
              "    .dataframe tbody tr th:only-of-type {\n",
              "        vertical-align: middle;\n",
              "    }\n",
              "\n",
              "    .dataframe tbody tr th {\n",
              "        vertical-align: top;\n",
              "    }\n",
              "\n",
              "    .dataframe thead th {\n",
              "        text-align: right;\n",
              "    }\n",
              "</style>\n",
              "<table border=\"1\" class=\"dataframe\">\n",
              "  <thead>\n",
              "    <tr style=\"text-align: right;\">\n",
              "      <th></th>\n",
              "      <th>index</th>\n",
              "      <th>age</th>\n",
              "      <th>workclass</th>\n",
              "      <th>fnlwgt</th>\n",
              "      <th>education</th>\n",
              "      <th>education-num</th>\n",
              "      <th>marital-status</th>\n",
              "      <th>occupation</th>\n",
              "      <th>relationship</th>\n",
              "      <th>race</th>\n",
              "      <th>sex</th>\n",
              "      <th>native-country</th>\n",
              "    </tr>\n",
              "  </thead>\n",
              "  <tbody>\n",
              "    <tr>\n",
              "      <th>0</th>\n",
              "      <td>3873</td>\n",
              "      <td>17</td>\n",
              "      <td>Local-gov</td>\n",
              "      <td>132652</td>\n",
              "      <td>Masters</td>\n",
              "      <td>14</td>\n",
              "      <td>Married-civ-spouse</td>\n",
              "      <td>Prof-specialty</td>\n",
              "      <td>Husband</td>\n",
              "      <td>White</td>\n",
              "      <td>Male</td>\n",
              "      <td>United-States</td>\n",
              "    </tr>\n",
              "    <tr>\n",
              "      <th>1</th>\n",
              "      <td>3625</td>\n",
              "      <td>23</td>\n",
              "      <td>Private</td>\n",
              "      <td>132652</td>\n",
              "      <td>Some-college</td>\n",
              "      <td>10</td>\n",
              "      <td>Married-civ-spouse</td>\n",
              "      <td>Sales</td>\n",
              "      <td>Husband</td>\n",
              "      <td>White</td>\n",
              "      <td>Male</td>\n",
              "      <td>United-States</td>\n",
              "    </tr>\n",
              "    <tr>\n",
              "      <th>2</th>\n",
              "      <td>3028</td>\n",
              "      <td>19</td>\n",
              "      <td>Private</td>\n",
              "      <td>132652</td>\n",
              "      <td>11th</td>\n",
              "      <td>7</td>\n",
              "      <td>Never-married</td>\n",
              "      <td>Handlers-cleaners</td>\n",
              "      <td>Own-child</td>\n",
              "      <td>White</td>\n",
              "      <td>Female</td>\n",
              "      <td>United-States</td>\n",
              "    </tr>\n",
              "    <tr>\n",
              "      <th>3</th>\n",
              "      <td>13814</td>\n",
              "      <td>30</td>\n",
              "      <td>State-gov</td>\n",
              "      <td>132652</td>\n",
              "      <td>HS-grad</td>\n",
              "      <td>9</td>\n",
              "      <td>Never-married</td>\n",
              "      <td>Protective-serv</td>\n",
              "      <td>Unmarried</td>\n",
              "      <td>Black</td>\n",
              "      <td>Female</td>\n",
              "      <td>United-States</td>\n",
              "    </tr>\n",
              "    <tr>\n",
              "      <th>4</th>\n",
              "      <td>15398</td>\n",
              "      <td>60</td>\n",
              "      <td>Private</td>\n",
              "      <td>132652</td>\n",
              "      <td>Bachelors</td>\n",
              "      <td>13</td>\n",
              "      <td>Married-civ-spouse</td>\n",
              "      <td>Prof-specialty</td>\n",
              "      <td>Husband</td>\n",
              "      <td>White</td>\n",
              "      <td>Male</td>\n",
              "      <td>United-States</td>\n",
              "    </tr>\n",
              "    <tr>\n",
              "      <th>...</th>\n",
              "      <td>...</td>\n",
              "      <td>...</td>\n",
              "      <td>...</td>\n",
              "      <td>...</td>\n",
              "      <td>...</td>\n",
              "      <td>...</td>\n",
              "      <td>...</td>\n",
              "      <td>...</td>\n",
              "      <td>...</td>\n",
              "      <td>...</td>\n",
              "      <td>...</td>\n",
              "      <td>...</td>\n",
              "    </tr>\n",
              "    <tr>\n",
              "      <th>5095</th>\n",
              "      <td>6726</td>\n",
              "      <td>19</td>\n",
              "      <td>Private</td>\n",
              "      <td>132652</td>\n",
              "      <td>Some-college</td>\n",
              "      <td>10</td>\n",
              "      <td>Never-married</td>\n",
              "      <td>Exec-managerial</td>\n",
              "      <td>Unmarried</td>\n",
              "      <td>White</td>\n",
              "      <td>Female</td>\n",
              "      <td>United-States</td>\n",
              "    </tr>\n",
              "    <tr>\n",
              "      <th>5096</th>\n",
              "      <td>1501</td>\n",
              "      <td>23</td>\n",
              "      <td>Private</td>\n",
              "      <td>132652</td>\n",
              "      <td>HS-grad</td>\n",
              "      <td>9</td>\n",
              "      <td>Married-civ-spouse</td>\n",
              "      <td>Sales</td>\n",
              "      <td>Husband</td>\n",
              "      <td>White</td>\n",
              "      <td>Male</td>\n",
              "      <td>United-States</td>\n",
              "    </tr>\n",
              "    <tr>\n",
              "      <th>5097</th>\n",
              "      <td>6391</td>\n",
              "      <td>36</td>\n",
              "      <td>Private</td>\n",
              "      <td>132652</td>\n",
              "      <td>9th</td>\n",
              "      <td>5</td>\n",
              "      <td>Married-civ-spouse</td>\n",
              "      <td>Machine-op-inspct</td>\n",
              "      <td>Husband</td>\n",
              "      <td>White</td>\n",
              "      <td>Male</td>\n",
              "      <td>United-States</td>\n",
              "    </tr>\n",
              "    <tr>\n",
              "      <th>5098</th>\n",
              "      <td>7104</td>\n",
              "      <td>33</td>\n",
              "      <td>Private</td>\n",
              "      <td>132652</td>\n",
              "      <td>Prof-school</td>\n",
              "      <td>11</td>\n",
              "      <td>Never-married</td>\n",
              "      <td>Prof-specialty</td>\n",
              "      <td>Not-in-family</td>\n",
              "      <td>White</td>\n",
              "      <td>Male</td>\n",
              "      <td>United-States</td>\n",
              "    </tr>\n",
              "    <tr>\n",
              "      <th>5099</th>\n",
              "      <td>4214</td>\n",
              "      <td>36</td>\n",
              "      <td>Local-gov</td>\n",
              "      <td>132652</td>\n",
              "      <td>Bachelors</td>\n",
              "      <td>13</td>\n",
              "      <td>Married-civ-spouse</td>\n",
              "      <td>Adm-clerical</td>\n",
              "      <td>Husband</td>\n",
              "      <td>White</td>\n",
              "      <td>Male</td>\n",
              "      <td>United-States</td>\n",
              "    </tr>\n",
              "  </tbody>\n",
              "</table>\n",
              "<p>5100 rows × 12 columns</p>\n",
              "</div>"
            ],
            "text/plain": [
              "      index  age  workclass  ...   race     sex  native-country\n",
              "0      3873   17  Local-gov  ...  White    Male   United-States\n",
              "1      3625   23    Private  ...  White    Male   United-States\n",
              "2      3028   19    Private  ...  White  Female   United-States\n",
              "3     13814   30  State-gov  ...  Black  Female   United-States\n",
              "4     15398   60    Private  ...  White    Male   United-States\n",
              "...     ...  ...        ...  ...    ...     ...             ...\n",
              "5095   6726   19    Private  ...  White  Female   United-States\n",
              "5096   1501   23    Private  ...  White    Male   United-States\n",
              "5097   6391   36    Private  ...  White    Male   United-States\n",
              "5098   7104   33    Private  ...  White    Male   United-States\n",
              "5099   4214   36  Local-gov  ...  White    Male   United-States\n",
              "\n",
              "[5100 rows x 12 columns]"
            ]
          },
          "metadata": {
            "tags": []
          },
          "execution_count": 4
        }
      ]
    },
    {
      "cell_type": "code",
      "metadata": {
        "colab": {
          "base_uri": "https://localhost:8080/",
          "height": 419
        },
        "id": "CH8Op-eEU0D0",
        "outputId": "8aff98d0-d8b2-43a2-8e54-b3ea21514f36"
      },
      "source": [
        "submission"
      ],
      "execution_count": 5,
      "outputs": [
        {
          "output_type": "execute_result",
          "data": {
            "text/html": [
              "<div>\n",
              "<style scoped>\n",
              "    .dataframe tbody tr th:only-of-type {\n",
              "        vertical-align: middle;\n",
              "    }\n",
              "\n",
              "    .dataframe tbody tr th {\n",
              "        vertical-align: top;\n",
              "    }\n",
              "\n",
              "    .dataframe thead th {\n",
              "        text-align: right;\n",
              "    }\n",
              "</style>\n",
              "<table border=\"1\" class=\"dataframe\">\n",
              "  <thead>\n",
              "    <tr style=\"text-align: right;\">\n",
              "      <th></th>\n",
              "      <th>3873</th>\n",
              "      <th>0</th>\n",
              "    </tr>\n",
              "  </thead>\n",
              "  <tbody>\n",
              "    <tr>\n",
              "      <th>0</th>\n",
              "      <td>3625</td>\n",
              "      <td>0</td>\n",
              "    </tr>\n",
              "    <tr>\n",
              "      <th>1</th>\n",
              "      <td>3028</td>\n",
              "      <td>0</td>\n",
              "    </tr>\n",
              "    <tr>\n",
              "      <th>2</th>\n",
              "      <td>13814</td>\n",
              "      <td>0</td>\n",
              "    </tr>\n",
              "    <tr>\n",
              "      <th>3</th>\n",
              "      <td>15398</td>\n",
              "      <td>0</td>\n",
              "    </tr>\n",
              "    <tr>\n",
              "      <th>4</th>\n",
              "      <td>13244</td>\n",
              "      <td>0</td>\n",
              "    </tr>\n",
              "    <tr>\n",
              "      <th>...</th>\n",
              "      <td>...</td>\n",
              "      <td>...</td>\n",
              "    </tr>\n",
              "    <tr>\n",
              "      <th>5094</th>\n",
              "      <td>6726</td>\n",
              "      <td>0</td>\n",
              "    </tr>\n",
              "    <tr>\n",
              "      <th>5095</th>\n",
              "      <td>1501</td>\n",
              "      <td>0</td>\n",
              "    </tr>\n",
              "    <tr>\n",
              "      <th>5096</th>\n",
              "      <td>6391</td>\n",
              "      <td>0</td>\n",
              "    </tr>\n",
              "    <tr>\n",
              "      <th>5097</th>\n",
              "      <td>7104</td>\n",
              "      <td>0</td>\n",
              "    </tr>\n",
              "    <tr>\n",
              "      <th>5098</th>\n",
              "      <td>4214</td>\n",
              "      <td>0</td>\n",
              "    </tr>\n",
              "  </tbody>\n",
              "</table>\n",
              "<p>5099 rows × 2 columns</p>\n",
              "</div>"
            ],
            "text/plain": [
              "       3873  0\n",
              "0      3625  0\n",
              "1      3028  0\n",
              "2     13814  0\n",
              "3     15398  0\n",
              "4     13244  0\n",
              "...     ... ..\n",
              "5094   6726  0\n",
              "5095   1501  0\n",
              "5096   6391  0\n",
              "5097   7104  0\n",
              "5098   4214  0\n",
              "\n",
              "[5099 rows x 2 columns]"
            ]
          },
          "metadata": {
            "tags": []
          },
          "execution_count": 5
        }
      ]
    },
    {
      "cell_type": "code",
      "metadata": {
        "colab": {
          "base_uri": "https://localhost:8080/"
        },
        "id": "CN7kz2ujSYjp",
        "outputId": "cfb42f56-ef4d-44fc-c2f8-88a2ba10dedf"
      },
      "source": [
        "train.info()"
      ],
      "execution_count": 6,
      "outputs": [
        {
          "output_type": "stream",
          "text": [
            "<class 'pandas.core.frame.DataFrame'>\n",
            "RangeIndex: 11900 entries, 0 to 11899\n",
            "Data columns (total 13 columns):\n",
            " #   Column          Non-Null Count  Dtype \n",
            "---  ------          --------------  ----- \n",
            " 0   index           11900 non-null  int64 \n",
            " 1   age             11900 non-null  int64 \n",
            " 2   workclass       11900 non-null  object\n",
            " 3   fnlwgt          11900 non-null  int64 \n",
            " 4   education       11900 non-null  object\n",
            " 5   education-num   11900 non-null  int64 \n",
            " 6   marital-status  11900 non-null  object\n",
            " 7   occupation      11900 non-null  object\n",
            " 8   relationship    11900 non-null  object\n",
            " 9   race            11900 non-null  object\n",
            " 10  sex             11900 non-null  object\n",
            " 11  native-country  11900 non-null  object\n",
            " 12  Y               11900 non-null  int64 \n",
            "dtypes: int64(5), object(8)\n",
            "memory usage: 1.2+ MB\n"
          ],
          "name": "stdout"
        }
      ]
    },
    {
      "cell_type": "code",
      "metadata": {
        "colab": {
          "base_uri": "https://localhost:8080/"
        },
        "id": "kYeBsjH1zA1o",
        "outputId": "e7f200ed-2b80-4c09-f272-98495529a7ce"
      },
      "source": [
        "all_data = pd.concat((train.loc[:,'age':'native-country'],\n",
        "                      test.loc[:,'age':'native-country']))\n",
        "\n",
        "print(all_data.shape)\n",
        "print(all_data)"
      ],
      "execution_count": 7,
      "outputs": [
        {
          "output_type": "stream",
          "text": [
            "(17000, 11)\n",
            "      age  workclass  fnlwgt  ...   race     sex native-country\n",
            "0      21    Private  132652  ...  White  Female  United-States\n",
            "1      29    Private  132652  ...  White  Female  United-States\n",
            "2      19    Private  132652  ...  White  Female  United-States\n",
            "3      17    Private  132652  ...  White    Male  United-States\n",
            "4      47    Private  132652  ...  White    Male  United-States\n",
            "...   ...        ...     ...  ...    ...     ...            ...\n",
            "5095   19    Private  132652  ...  White  Female  United-States\n",
            "5096   23    Private  132652  ...  White    Male  United-States\n",
            "5097   36    Private  132652  ...  White    Male  United-States\n",
            "5098   33    Private  132652  ...  White    Male  United-States\n",
            "5099   36  Local-gov  132652  ...  White    Male  United-States\n",
            "\n",
            "[17000 rows x 11 columns]\n"
          ],
          "name": "stdout"
        }
      ]
    },
    {
      "cell_type": "code",
      "metadata": {
        "colab": {
          "base_uri": "https://localhost:8080/"
        },
        "id": "TuOECqMc5A9T",
        "outputId": "47c9d910-7732-4ed0-da5f-93751ee554e8"
      },
      "source": [
        "!pip install scikit-learn"
      ],
      "execution_count": 8,
      "outputs": [
        {
          "output_type": "stream",
          "text": [
            "Requirement already satisfied: scikit-learn in /usr/local/lib/python3.6/dist-packages (0.22.2.post1)\n",
            "Requirement already satisfied: numpy>=1.11.0 in /usr/local/lib/python3.6/dist-packages (from scikit-learn) (1.19.5)\n",
            "Requirement already satisfied: scipy>=0.17.0 in /usr/local/lib/python3.6/dist-packages (from scikit-learn) (1.4.1)\n",
            "Requirement already satisfied: joblib>=0.11 in /usr/local/lib/python3.6/dist-packages (from scikit-learn) (1.0.0)\n"
          ],
          "name": "stdout"
        }
      ]
    },
    {
      "cell_type": "code",
      "metadata": {
        "id": "nCwIABf_4w1e"
      },
      "source": [
        "from sklearn.preprocessing import LabelEncoder"
      ],
      "execution_count": 9,
      "outputs": []
    },
    {
      "cell_type": "code",
      "metadata": {
        "colab": {
          "base_uri": "https://localhost:8080/"
        },
        "id": "XCSa_euY6FlF",
        "outputId": "9971c9b8-072e-41c8-ad48-a79aad57e3c4"
      },
      "source": [
        "all_data.columns"
      ],
      "execution_count": 10,
      "outputs": [
        {
          "output_type": "execute_result",
          "data": {
            "text/plain": [
              "Index(['age', 'workclass', 'fnlwgt', 'education', 'education-num',\n",
              "       'marital-status', 'occupation', 'relationship', 'race', 'sex',\n",
              "       'native-country'],\n",
              "      dtype='object')"
            ]
          },
          "metadata": {
            "tags": []
          },
          "execution_count": 10
        }
      ]
    },
    {
      "cell_type": "code",
      "metadata": {
        "colab": {
          "base_uri": "https://localhost:8080/"
        },
        "id": "UirTQbs85bvn",
        "outputId": "c5d7bb76-1e44-4bb0-c2ef-3d9fe8569b76"
      },
      "source": [
        "categories = all_data.columns[all_data.dtypes == 'object']\n",
        "categories"
      ],
      "execution_count": 11,
      "outputs": [
        {
          "output_type": "execute_result",
          "data": {
            "text/plain": [
              "Index(['workclass', 'education', 'marital-status', 'occupation',\n",
              "       'relationship', 'race', 'sex', 'native-country'],\n",
              "      dtype='object')"
            ]
          },
          "metadata": {
            "tags": []
          },
          "execution_count": 11
        }
      ]
    },
    {
      "cell_type": "code",
      "metadata": {
        "colab": {
          "base_uri": "https://localhost:8080/"
        },
        "id": "B_bmlb4u6nGk",
        "outputId": "3bfea03b-ed60-454e-94af-81b21ff66927"
      },
      "source": [
        "le = LabelEncoder()\n",
        "\n",
        "for cat in categories:\n",
        "  le = LabelEncoder()\n",
        "  print(cat)\n",
        "  if all_data[cat].dtypes == \"object\":\n",
        "    le = le.fit(all_data[cat])\n",
        "    all_data[cat] = le.transform(all_data[cat])"
      ],
      "execution_count": 12,
      "outputs": [
        {
          "output_type": "stream",
          "text": [
            "workclass\n",
            "education\n",
            "marital-status\n",
            "occupation\n",
            "relationship\n",
            "race\n",
            "sex\n",
            "native-country\n"
          ],
          "name": "stdout"
        }
      ]
    },
    {
      "cell_type": "code",
      "metadata": {
        "colab": {
          "base_uri": "https://localhost:8080/",
          "height": 204
        },
        "id": "eACSfeD57625",
        "outputId": "13a422bd-df13-49b2-f3c1-8a0c4ead59ea"
      },
      "source": [
        "all_data.head()"
      ],
      "execution_count": 13,
      "outputs": [
        {
          "output_type": "execute_result",
          "data": {
            "text/html": [
              "<div>\n",
              "<style scoped>\n",
              "    .dataframe tbody tr th:only-of-type {\n",
              "        vertical-align: middle;\n",
              "    }\n",
              "\n",
              "    .dataframe tbody tr th {\n",
              "        vertical-align: top;\n",
              "    }\n",
              "\n",
              "    .dataframe thead th {\n",
              "        text-align: right;\n",
              "    }\n",
              "</style>\n",
              "<table border=\"1\" class=\"dataframe\">\n",
              "  <thead>\n",
              "    <tr style=\"text-align: right;\">\n",
              "      <th></th>\n",
              "      <th>age</th>\n",
              "      <th>workclass</th>\n",
              "      <th>fnlwgt</th>\n",
              "      <th>education</th>\n",
              "      <th>education-num</th>\n",
              "      <th>marital-status</th>\n",
              "      <th>occupation</th>\n",
              "      <th>relationship</th>\n",
              "      <th>race</th>\n",
              "      <th>sex</th>\n",
              "      <th>native-country</th>\n",
              "    </tr>\n",
              "  </thead>\n",
              "  <tbody>\n",
              "    <tr>\n",
              "      <th>0</th>\n",
              "      <td>21</td>\n",
              "      <td>3</td>\n",
              "      <td>132652</td>\n",
              "      <td>13</td>\n",
              "      <td>10</td>\n",
              "      <td>0</td>\n",
              "      <td>1</td>\n",
              "      <td>3</td>\n",
              "      <td>2</td>\n",
              "      <td>0</td>\n",
              "      <td>2</td>\n",
              "    </tr>\n",
              "    <tr>\n",
              "      <th>1</th>\n",
              "      <td>29</td>\n",
              "      <td>3</td>\n",
              "      <td>132652</td>\n",
              "      <td>10</td>\n",
              "      <td>9</td>\n",
              "      <td>0</td>\n",
              "      <td>1</td>\n",
              "      <td>1</td>\n",
              "      <td>2</td>\n",
              "      <td>0</td>\n",
              "      <td>2</td>\n",
              "    </tr>\n",
              "    <tr>\n",
              "      <th>2</th>\n",
              "      <td>19</td>\n",
              "      <td>3</td>\n",
              "      <td>132652</td>\n",
              "      <td>9</td>\n",
              "      <td>13</td>\n",
              "      <td>2</td>\n",
              "      <td>8</td>\n",
              "      <td>1</td>\n",
              "      <td>2</td>\n",
              "      <td>0</td>\n",
              "      <td>2</td>\n",
              "    </tr>\n",
              "    <tr>\n",
              "      <th>3</th>\n",
              "      <td>17</td>\n",
              "      <td>3</td>\n",
              "      <td>132652</td>\n",
              "      <td>10</td>\n",
              "      <td>9</td>\n",
              "      <td>2</td>\n",
              "      <td>2</td>\n",
              "      <td>3</td>\n",
              "      <td>2</td>\n",
              "      <td>1</td>\n",
              "      <td>2</td>\n",
              "    </tr>\n",
              "    <tr>\n",
              "      <th>4</th>\n",
              "      <td>47</td>\n",
              "      <td>3</td>\n",
              "      <td>132652</td>\n",
              "      <td>13</td>\n",
              "      <td>10</td>\n",
              "      <td>1</td>\n",
              "      <td>2</td>\n",
              "      <td>0</td>\n",
              "      <td>2</td>\n",
              "      <td>1</td>\n",
              "      <td>2</td>\n",
              "    </tr>\n",
              "  </tbody>\n",
              "</table>\n",
              "</div>"
            ],
            "text/plain": [
              "   age  workclass  fnlwgt  education  ...  relationship  race  sex  native-country\n",
              "0   21          3  132652         13  ...             3     2    0               2\n",
              "1   29          3  132652         10  ...             1     2    0               2\n",
              "2   19          3  132652          9  ...             1     2    0               2\n",
              "3   17          3  132652         10  ...             3     2    1               2\n",
              "4   47          3  132652         13  ...             0     2    1               2\n",
              "\n",
              "[5 rows x 11 columns]"
            ]
          },
          "metadata": {
            "tags": []
          },
          "execution_count": 13
        }
      ]
    },
    {
      "cell_type": "code",
      "metadata": {
        "colab": {
          "base_uri": "https://localhost:8080/"
        },
        "id": "QoWjF6yGvPDR",
        "outputId": "d385a438-d37e-4a0a-b7f0-f4b29a8526bb"
      },
      "source": [
        "train.shape[0]"
      ],
      "execution_count": 14,
      "outputs": [
        {
          "output_type": "execute_result",
          "data": {
            "text/plain": [
              "11900"
            ]
          },
          "metadata": {
            "tags": []
          },
          "execution_count": 14
        }
      ]
    },
    {
      "cell_type": "code",
      "metadata": {
        "colab": {
          "base_uri": "https://localhost:8080/",
          "height": 419
        },
        "id": "nOOQsHadvfD-",
        "outputId": "2a225124-2fbc-489e-f894-b78907e79686"
      },
      "source": [
        "all_data[:train.shape[0]]"
      ],
      "execution_count": 15,
      "outputs": [
        {
          "output_type": "execute_result",
          "data": {
            "text/html": [
              "<div>\n",
              "<style scoped>\n",
              "    .dataframe tbody tr th:only-of-type {\n",
              "        vertical-align: middle;\n",
              "    }\n",
              "\n",
              "    .dataframe tbody tr th {\n",
              "        vertical-align: top;\n",
              "    }\n",
              "\n",
              "    .dataframe thead th {\n",
              "        text-align: right;\n",
              "    }\n",
              "</style>\n",
              "<table border=\"1\" class=\"dataframe\">\n",
              "  <thead>\n",
              "    <tr style=\"text-align: right;\">\n",
              "      <th></th>\n",
              "      <th>age</th>\n",
              "      <th>workclass</th>\n",
              "      <th>fnlwgt</th>\n",
              "      <th>education</th>\n",
              "      <th>education-num</th>\n",
              "      <th>marital-status</th>\n",
              "      <th>occupation</th>\n",
              "      <th>relationship</th>\n",
              "      <th>race</th>\n",
              "      <th>sex</th>\n",
              "      <th>native-country</th>\n",
              "    </tr>\n",
              "  </thead>\n",
              "  <tbody>\n",
              "    <tr>\n",
              "      <th>0</th>\n",
              "      <td>21</td>\n",
              "      <td>3</td>\n",
              "      <td>132652</td>\n",
              "      <td>13</td>\n",
              "      <td>10</td>\n",
              "      <td>0</td>\n",
              "      <td>1</td>\n",
              "      <td>3</td>\n",
              "      <td>2</td>\n",
              "      <td>0</td>\n",
              "      <td>2</td>\n",
              "    </tr>\n",
              "    <tr>\n",
              "      <th>1</th>\n",
              "      <td>29</td>\n",
              "      <td>3</td>\n",
              "      <td>132652</td>\n",
              "      <td>10</td>\n",
              "      <td>9</td>\n",
              "      <td>0</td>\n",
              "      <td>1</td>\n",
              "      <td>1</td>\n",
              "      <td>2</td>\n",
              "      <td>0</td>\n",
              "      <td>2</td>\n",
              "    </tr>\n",
              "    <tr>\n",
              "      <th>2</th>\n",
              "      <td>19</td>\n",
              "      <td>3</td>\n",
              "      <td>132652</td>\n",
              "      <td>9</td>\n",
              "      <td>13</td>\n",
              "      <td>2</td>\n",
              "      <td>8</td>\n",
              "      <td>1</td>\n",
              "      <td>2</td>\n",
              "      <td>0</td>\n",
              "      <td>2</td>\n",
              "    </tr>\n",
              "    <tr>\n",
              "      <th>3</th>\n",
              "      <td>17</td>\n",
              "      <td>3</td>\n",
              "      <td>132652</td>\n",
              "      <td>10</td>\n",
              "      <td>9</td>\n",
              "      <td>2</td>\n",
              "      <td>2</td>\n",
              "      <td>3</td>\n",
              "      <td>2</td>\n",
              "      <td>1</td>\n",
              "      <td>2</td>\n",
              "    </tr>\n",
              "    <tr>\n",
              "      <th>4</th>\n",
              "      <td>47</td>\n",
              "      <td>3</td>\n",
              "      <td>132652</td>\n",
              "      <td>13</td>\n",
              "      <td>10</td>\n",
              "      <td>1</td>\n",
              "      <td>2</td>\n",
              "      <td>0</td>\n",
              "      <td>2</td>\n",
              "      <td>1</td>\n",
              "      <td>2</td>\n",
              "    </tr>\n",
              "    <tr>\n",
              "      <th>...</th>\n",
              "      <td>...</td>\n",
              "      <td>...</td>\n",
              "      <td>...</td>\n",
              "      <td>...</td>\n",
              "      <td>...</td>\n",
              "      <td>...</td>\n",
              "      <td>...</td>\n",
              "      <td>...</td>\n",
              "      <td>...</td>\n",
              "      <td>...</td>\n",
              "      <td>...</td>\n",
              "    </tr>\n",
              "    <tr>\n",
              "      <th>11895</th>\n",
              "      <td>23</td>\n",
              "      <td>3</td>\n",
              "      <td>132652</td>\n",
              "      <td>10</td>\n",
              "      <td>9</td>\n",
              "      <td>1</td>\n",
              "      <td>10</td>\n",
              "      <td>5</td>\n",
              "      <td>2</td>\n",
              "      <td>0</td>\n",
              "      <td>2</td>\n",
              "    </tr>\n",
              "    <tr>\n",
              "      <th>11896</th>\n",
              "      <td>31</td>\n",
              "      <td>3</td>\n",
              "      <td>132652</td>\n",
              "      <td>10</td>\n",
              "      <td>9</td>\n",
              "      <td>0</td>\n",
              "      <td>7</td>\n",
              "      <td>4</td>\n",
              "      <td>1</td>\n",
              "      <td>0</td>\n",
              "      <td>2</td>\n",
              "    </tr>\n",
              "    <tr>\n",
              "      <th>11897</th>\n",
              "      <td>21</td>\n",
              "      <td>3</td>\n",
              "      <td>132652</td>\n",
              "      <td>10</td>\n",
              "      <td>9</td>\n",
              "      <td>2</td>\n",
              "      <td>7</td>\n",
              "      <td>3</td>\n",
              "      <td>2</td>\n",
              "      <td>1</td>\n",
              "      <td>2</td>\n",
              "    </tr>\n",
              "    <tr>\n",
              "      <th>11898</th>\n",
              "      <td>29</td>\n",
              "      <td>3</td>\n",
              "      <td>132652</td>\n",
              "      <td>9</td>\n",
              "      <td>13</td>\n",
              "      <td>2</td>\n",
              "      <td>6</td>\n",
              "      <td>1</td>\n",
              "      <td>2</td>\n",
              "      <td>1</td>\n",
              "      <td>2</td>\n",
              "    </tr>\n",
              "    <tr>\n",
              "      <th>11899</th>\n",
              "      <td>17</td>\n",
              "      <td>3</td>\n",
              "      <td>132652</td>\n",
              "      <td>10</td>\n",
              "      <td>9</td>\n",
              "      <td>1</td>\n",
              "      <td>11</td>\n",
              "      <td>0</td>\n",
              "      <td>2</td>\n",
              "      <td>1</td>\n",
              "      <td>2</td>\n",
              "    </tr>\n",
              "  </tbody>\n",
              "</table>\n",
              "<p>11900 rows × 11 columns</p>\n",
              "</div>"
            ],
            "text/plain": [
              "       age  workclass  fnlwgt  ...  race  sex  native-country\n",
              "0       21          3  132652  ...     2    0               2\n",
              "1       29          3  132652  ...     2    0               2\n",
              "2       19          3  132652  ...     2    0               2\n",
              "3       17          3  132652  ...     2    1               2\n",
              "4       47          3  132652  ...     2    1               2\n",
              "...    ...        ...     ...  ...   ...  ...             ...\n",
              "11895   23          3  132652  ...     2    0               2\n",
              "11896   31          3  132652  ...     1    0               2\n",
              "11897   21          3  132652  ...     2    1               2\n",
              "11898   29          3  132652  ...     2    1               2\n",
              "11899   17          3  132652  ...     2    1               2\n",
              "\n",
              "[11900 rows x 11 columns]"
            ]
          },
          "metadata": {
            "tags": []
          },
          "execution_count": 15
        }
      ]
    },
    {
      "cell_type": "code",
      "metadata": {
        "colab": {
          "base_uri": "https://localhost:8080/",
          "height": 419
        },
        "id": "LmwJAL9YwAUx",
        "outputId": "b6682146-6c52-4788-e41d-23b73f59d2b1"
      },
      "source": [
        "all_data[train.shape[0]:]"
      ],
      "execution_count": 16,
      "outputs": [
        {
          "output_type": "execute_result",
          "data": {
            "text/html": [
              "<div>\n",
              "<style scoped>\n",
              "    .dataframe tbody tr th:only-of-type {\n",
              "        vertical-align: middle;\n",
              "    }\n",
              "\n",
              "    .dataframe tbody tr th {\n",
              "        vertical-align: top;\n",
              "    }\n",
              "\n",
              "    .dataframe thead th {\n",
              "        text-align: right;\n",
              "    }\n",
              "</style>\n",
              "<table border=\"1\" class=\"dataframe\">\n",
              "  <thead>\n",
              "    <tr style=\"text-align: right;\">\n",
              "      <th></th>\n",
              "      <th>age</th>\n",
              "      <th>workclass</th>\n",
              "      <th>fnlwgt</th>\n",
              "      <th>education</th>\n",
              "      <th>education-num</th>\n",
              "      <th>marital-status</th>\n",
              "      <th>occupation</th>\n",
              "      <th>relationship</th>\n",
              "      <th>race</th>\n",
              "      <th>sex</th>\n",
              "      <th>native-country</th>\n",
              "    </tr>\n",
              "  </thead>\n",
              "  <tbody>\n",
              "    <tr>\n",
              "      <th>0</th>\n",
              "      <td>17</td>\n",
              "      <td>2</td>\n",
              "      <td>132652</td>\n",
              "      <td>11</td>\n",
              "      <td>14</td>\n",
              "      <td>1</td>\n",
              "      <td>8</td>\n",
              "      <td>0</td>\n",
              "      <td>2</td>\n",
              "      <td>1</td>\n",
              "      <td>2</td>\n",
              "    </tr>\n",
              "    <tr>\n",
              "      <th>1</th>\n",
              "      <td>23</td>\n",
              "      <td>3</td>\n",
              "      <td>132652</td>\n",
              "      <td>13</td>\n",
              "      <td>10</td>\n",
              "      <td>1</td>\n",
              "      <td>10</td>\n",
              "      <td>0</td>\n",
              "      <td>2</td>\n",
              "      <td>1</td>\n",
              "      <td>2</td>\n",
              "    </tr>\n",
              "    <tr>\n",
              "      <th>2</th>\n",
              "      <td>19</td>\n",
              "      <td>3</td>\n",
              "      <td>132652</td>\n",
              "      <td>1</td>\n",
              "      <td>7</td>\n",
              "      <td>2</td>\n",
              "      <td>5</td>\n",
              "      <td>3</td>\n",
              "      <td>2</td>\n",
              "      <td>0</td>\n",
              "      <td>2</td>\n",
              "    </tr>\n",
              "    <tr>\n",
              "      <th>3</th>\n",
              "      <td>30</td>\n",
              "      <td>6</td>\n",
              "      <td>132652</td>\n",
              "      <td>10</td>\n",
              "      <td>9</td>\n",
              "      <td>2</td>\n",
              "      <td>9</td>\n",
              "      <td>4</td>\n",
              "      <td>1</td>\n",
              "      <td>0</td>\n",
              "      <td>2</td>\n",
              "    </tr>\n",
              "    <tr>\n",
              "      <th>4</th>\n",
              "      <td>60</td>\n",
              "      <td>3</td>\n",
              "      <td>132652</td>\n",
              "      <td>9</td>\n",
              "      <td>13</td>\n",
              "      <td>1</td>\n",
              "      <td>8</td>\n",
              "      <td>0</td>\n",
              "      <td>2</td>\n",
              "      <td>1</td>\n",
              "      <td>2</td>\n",
              "    </tr>\n",
              "    <tr>\n",
              "      <th>...</th>\n",
              "      <td>...</td>\n",
              "      <td>...</td>\n",
              "      <td>...</td>\n",
              "      <td>...</td>\n",
              "      <td>...</td>\n",
              "      <td>...</td>\n",
              "      <td>...</td>\n",
              "      <td>...</td>\n",
              "      <td>...</td>\n",
              "      <td>...</td>\n",
              "      <td>...</td>\n",
              "    </tr>\n",
              "    <tr>\n",
              "      <th>5095</th>\n",
              "      <td>19</td>\n",
              "      <td>3</td>\n",
              "      <td>132652</td>\n",
              "      <td>13</td>\n",
              "      <td>10</td>\n",
              "      <td>2</td>\n",
              "      <td>3</td>\n",
              "      <td>4</td>\n",
              "      <td>2</td>\n",
              "      <td>0</td>\n",
              "      <td>2</td>\n",
              "    </tr>\n",
              "    <tr>\n",
              "      <th>5096</th>\n",
              "      <td>23</td>\n",
              "      <td>3</td>\n",
              "      <td>132652</td>\n",
              "      <td>10</td>\n",
              "      <td>9</td>\n",
              "      <td>1</td>\n",
              "      <td>10</td>\n",
              "      <td>0</td>\n",
              "      <td>2</td>\n",
              "      <td>1</td>\n",
              "      <td>2</td>\n",
              "    </tr>\n",
              "    <tr>\n",
              "      <th>5097</th>\n",
              "      <td>36</td>\n",
              "      <td>3</td>\n",
              "      <td>132652</td>\n",
              "      <td>6</td>\n",
              "      <td>5</td>\n",
              "      <td>1</td>\n",
              "      <td>6</td>\n",
              "      <td>0</td>\n",
              "      <td>2</td>\n",
              "      <td>1</td>\n",
              "      <td>2</td>\n",
              "    </tr>\n",
              "    <tr>\n",
              "      <th>5098</th>\n",
              "      <td>33</td>\n",
              "      <td>3</td>\n",
              "      <td>132652</td>\n",
              "      <td>12</td>\n",
              "      <td>11</td>\n",
              "      <td>2</td>\n",
              "      <td>8</td>\n",
              "      <td>1</td>\n",
              "      <td>2</td>\n",
              "      <td>1</td>\n",
              "      <td>2</td>\n",
              "    </tr>\n",
              "    <tr>\n",
              "      <th>5099</th>\n",
              "      <td>36</td>\n",
              "      <td>2</td>\n",
              "      <td>132652</td>\n",
              "      <td>9</td>\n",
              "      <td>13</td>\n",
              "      <td>1</td>\n",
              "      <td>1</td>\n",
              "      <td>0</td>\n",
              "      <td>2</td>\n",
              "      <td>1</td>\n",
              "      <td>2</td>\n",
              "    </tr>\n",
              "  </tbody>\n",
              "</table>\n",
              "<p>5100 rows × 11 columns</p>\n",
              "</div>"
            ],
            "text/plain": [
              "      age  workclass  fnlwgt  ...  race  sex  native-country\n",
              "0      17          2  132652  ...     2    1               2\n",
              "1      23          3  132652  ...     2    1               2\n",
              "2      19          3  132652  ...     2    0               2\n",
              "3      30          6  132652  ...     1    0               2\n",
              "4      60          3  132652  ...     2    1               2\n",
              "...   ...        ...     ...  ...   ...  ...             ...\n",
              "5095   19          3  132652  ...     2    0               2\n",
              "5096   23          3  132652  ...     2    1               2\n",
              "5097   36          3  132652  ...     2    1               2\n",
              "5098   33          3  132652  ...     2    1               2\n",
              "5099   36          2  132652  ...     2    1               2\n",
              "\n",
              "[5100 rows x 11 columns]"
            ]
          },
          "metadata": {
            "tags": []
          },
          "execution_count": 16
        }
      ]
    },
    {
      "cell_type": "code",
      "metadata": {
        "colab": {
          "base_uri": "https://localhost:8080/"
        },
        "id": "23zN4fZxwZzd",
        "outputId": "d59b8dee-c11a-4878-94b1-5931aa68506d"
      },
      "source": [
        "train.Y"
      ],
      "execution_count": 17,
      "outputs": [
        {
          "output_type": "execute_result",
          "data": {
            "text/plain": [
              "0        0\n",
              "1        0\n",
              "2        0\n",
              "3        0\n",
              "4        0\n",
              "        ..\n",
              "11895    0\n",
              "11896    0\n",
              "11897    0\n",
              "11898    0\n",
              "11899    1\n",
              "Name: Y, Length: 11900, dtype: int64"
            ]
          },
          "metadata": {
            "tags": []
          },
          "execution_count": 17
        }
      ]
    },
    {
      "cell_type": "code",
      "metadata": {
        "id": "NM88rxVlNPfj"
      },
      "source": [
        "train_X = all_data[:train.shape[0]]\n",
        "test_X = all_data[train.shape[0]:]\n",
        "train_Y= train.Y"
      ],
      "execution_count": 18,
      "outputs": []
    },
    {
      "cell_type": "code",
      "metadata": {
        "id": "yseSRw6d8s4r"
      },
      "source": [
        "import lightgbm as lgb"
      ],
      "execution_count": 19,
      "outputs": []
    },
    {
      "cell_type": "code",
      "metadata": {
        "id": "b9oqHm_x9VGh"
      },
      "source": [
        "from sklearn.model_selection import train_test_split\n",
        "from sklearn.model_selection import KFold"
      ],
      "execution_count": 20,
      "outputs": []
    },
    {
      "cell_type": "code",
      "metadata": {
        "id": "Ipx2UMmVHejA"
      },
      "source": [
        "from sklearn.metrics import accuracy_score"
      ],
      "execution_count": 21,
      "outputs": []
    },
    {
      "cell_type": "code",
      "metadata": {
        "colab": {
          "base_uri": "https://localhost:8080/"
        },
        "id": "Yajqi0_NgpHy",
        "outputId": "2d2b1a8a-1aeb-4850-9af5-41b5e1b7a8ed"
      },
      "source": [
        "!pip install optuna"
      ],
      "execution_count": 22,
      "outputs": [
        {
          "output_type": "stream",
          "text": [
            "Requirement already satisfied: optuna in /usr/local/lib/python3.6/dist-packages (2.5.0)\n",
            "Requirement already satisfied: cmaes>=0.6.0 in /usr/local/lib/python3.6/dist-packages (from optuna) (0.8.0)\n",
            "Requirement already satisfied: colorlog in /usr/local/lib/python3.6/dist-packages (from optuna) (4.7.2)\n",
            "Requirement already satisfied: packaging>=20.0 in /usr/local/lib/python3.6/dist-packages (from optuna) (20.9)\n",
            "Requirement already satisfied: tqdm in /usr/local/lib/python3.6/dist-packages (from optuna) (4.41.1)\n",
            "Requirement already satisfied: alembic in /usr/local/lib/python3.6/dist-packages (from optuna) (1.5.4)\n",
            "Requirement already satisfied: sqlalchemy>=1.1.0 in /usr/local/lib/python3.6/dist-packages (from optuna) (1.3.23)\n",
            "Requirement already satisfied: joblib in /usr/local/lib/python3.6/dist-packages (from optuna) (1.0.0)\n",
            "Requirement already satisfied: numpy in /usr/local/lib/python3.6/dist-packages (from optuna) (1.19.5)\n",
            "Requirement already satisfied: scipy!=1.4.0 in /usr/local/lib/python3.6/dist-packages (from optuna) (1.4.1)\n",
            "Requirement already satisfied: cliff in /usr/local/lib/python3.6/dist-packages (from optuna) (3.6.0)\n",
            "Requirement already satisfied: pyparsing>=2.0.2 in /usr/local/lib/python3.6/dist-packages (from packaging>=20.0->optuna) (2.4.7)\n",
            "Requirement already satisfied: python-editor>=0.3 in /usr/local/lib/python3.6/dist-packages (from alembic->optuna) (1.0.4)\n",
            "Requirement already satisfied: python-dateutil in /usr/local/lib/python3.6/dist-packages (from alembic->optuna) (2.8.1)\n",
            "Requirement already satisfied: Mako in /usr/local/lib/python3.6/dist-packages (from alembic->optuna) (1.1.4)\n",
            "Requirement already satisfied: stevedore>=2.0.1 in /usr/local/lib/python3.6/dist-packages (from cliff->optuna) (3.3.0)\n",
            "Requirement already satisfied: cmd2!=0.8.3,>=0.8.0 in /usr/local/lib/python3.6/dist-packages (from cliff->optuna) (1.5.0)\n",
            "Requirement already satisfied: PyYAML>=3.12 in /usr/local/lib/python3.6/dist-packages (from cliff->optuna) (3.13)\n",
            "Requirement already satisfied: PrettyTable<0.8,>=0.7.2 in /usr/local/lib/python3.6/dist-packages (from cliff->optuna) (0.7.2)\n",
            "Requirement already satisfied: pbr!=2.1.0,>=2.0.0 in /usr/local/lib/python3.6/dist-packages (from cliff->optuna) (5.5.1)\n",
            "Requirement already satisfied: six>=1.5 in /usr/local/lib/python3.6/dist-packages (from python-dateutil->alembic->optuna) (1.15.0)\n",
            "Requirement already satisfied: MarkupSafe>=0.9.2 in /usr/local/lib/python3.6/dist-packages (from Mako->alembic->optuna) (1.1.1)\n",
            "Requirement already satisfied: importlib-metadata>=1.7.0; python_version < \"3.8\" in /usr/local/lib/python3.6/dist-packages (from stevedore>=2.0.1->cliff->optuna) (3.4.0)\n",
            "Requirement already satisfied: attrs>=16.3.0 in /usr/local/lib/python3.6/dist-packages (from cmd2!=0.8.3,>=0.8.0->cliff->optuna) (20.3.0)\n",
            "Requirement already satisfied: pyperclip>=1.6 in /usr/local/lib/python3.6/dist-packages (from cmd2!=0.8.3,>=0.8.0->cliff->optuna) (1.8.1)\n",
            "Requirement already satisfied: colorama>=0.3.7 in /usr/local/lib/python3.6/dist-packages (from cmd2!=0.8.3,>=0.8.0->cliff->optuna) (0.4.4)\n",
            "Requirement already satisfied: wcwidth>=0.1.7 in /usr/local/lib/python3.6/dist-packages (from cmd2!=0.8.3,>=0.8.0->cliff->optuna) (0.2.5)\n",
            "Requirement already satisfied: typing-extensions>=3.6.4; python_version < \"3.8\" in /usr/local/lib/python3.6/dist-packages (from importlib-metadata>=1.7.0; python_version < \"3.8\"->stevedore>=2.0.1->cliff->optuna) (3.7.4.3)\n",
            "Requirement already satisfied: zipp>=0.5 in /usr/local/lib/python3.6/dist-packages (from importlib-metadata>=1.7.0; python_version < \"3.8\"->stevedore>=2.0.1->cliff->optuna) (3.4.0)\n"
          ],
          "name": "stdout"
        }
      ]
    },
    {
      "cell_type": "code",
      "metadata": {
        "id": "s8VvF_KZgxnX"
      },
      "source": [
        "import optuna"
      ],
      "execution_count": 23,
      "outputs": []
    },
    {
      "cell_type": "code",
      "metadata": {
        "id": "s-BPcDaM9whD"
      },
      "source": [
        "# X_train, X_valid, y_train, y_valid = train_test_split(train_X, train_Y, test_size=0.2,random_state=1234,shuffle=False, stratify=None)"
      ],
      "execution_count": 24,
      "outputs": []
    },
    {
      "cell_type": "code",
      "metadata": {
        "id": "hwbA67oNL8S_"
      },
      "source": [
        "folds = 5\n",
        "kf = KFold(n_splits=folds)"
      ],
      "execution_count": 25,
      "outputs": []
    },
    {
      "cell_type": "code",
      "metadata": {
        "id": "xZ5cbJmlEdsm"
      },
      "source": [
        "categories = ['workclass', 'education', 'marital-status', 'occupation',\n",
        "       'relationship', 'race', 'sex', 'native-country']"
      ],
      "execution_count": 26,
      "outputs": []
    },
    {
      "cell_type": "code",
      "metadata": {
        "id": "xmzvg8BdnYEq"
      },
      "source": [
        "# def objective(trial):\n",
        "#   params = {\n",
        "#     \"objective\":\"regression\",\n",
        "#     \"random_seed\":1234,\n",
        "#     \"max_bin\":trial.suggest_int(\"max_bin\",50,200),\n",
        "#     \"num_leaves\":trial.suggest_int(\"num_leaves\", 4,64),\n",
        "#     \"min_data_in_leaf\":trial.suggest_int(\"min_data_in_leaf\",2,16),\n",
        "#     \"random_seed\":1234,\n",
        "#     \"learning_rate\":0.05,\n",
        "#     \"n_estimators\":1000,\n",
        "#     \"bagging_fraction\":trial.suggest_uniform(\"bagging_fraction\",0.4,0.9),\n",
        "#     \"bagging_freq\":trial.suggest_int(\"bagging_freq\", 1,10),\n",
        "#     \"feature_fraction\":trial.suggest_uniform(\"feature_fraction\",0.4,0.9),\n",
        "#     \"min_sum_hessian_in_leaf\":trial.suggest_int(\"min_sum_hessian_in_leaf\",1,10),\n",
        "#     }\n",
        "#   lgb_train = lgb.Dataset(X_train, y_train)\n",
        "#   lgb_eval = lgb.Dataset(X_valid, y_valid, reference=lgb_train)\n",
        "\n",
        "#   model_lgb = lgb.train(params, lgb_train,\n",
        "#                        valid_sets=lgb_eval,\n",
        "#                        num_boost_round=1000,\n",
        "#                        early_stopping_rounds=50,\n",
        "#                        verbose_eval=10)\n",
        "\n",
        "#   y_pred = model_lgb.predict(X_valid, num_iiteration=model_lgb.best_iteration)\n",
        "#   score = accuracy_score(y_valid, np.round(y_pred))\n",
        "#   return score"
      ],
      "execution_count": 27,
      "outputs": []
    },
    {
      "cell_type": "code",
      "metadata": {
        "id": "kCIGj07Vt0-f"
      },
      "source": [
        "# study = optuna.create_study(sampler=optuna.samplers.RandomSampler(seed=0))\n",
        "# study.optimize(objective, n_trials=50)\n",
        "# study.best_params"
      ],
      "execution_count": 28,
      "outputs": []
    },
    {
      "cell_type": "code",
      "metadata": {
        "id": "EQ79nJfF_IOn"
      },
      "source": [
        "lgbm_params = {\n",
        "     \"objective\":\"regression\",\n",
        "     \"rondom_seed\":1234,\n",
        "      \"max_bin\":71,\n",
        "      \"num_leaves\":54,\n",
        "      \"min_data_in_leaf\":6,\n",
        "      \"random_seed\":1234,\n",
        "      \"learning_rate\":0.05,\n",
        "      \"n_estimators\":1000,\n",
        "      \"bagging_fraction\":0.5487673032722362,\n",
        "      \"bagging_freq\":9,\n",
        "      \"feature_fraction\":0.8818313802505147,\n",
        "      \"min_sum_hessian_in_leaf\":2,\n",
        "      }"
      ],
      "execution_count": 29,
      "outputs": []
    },
    {
      "cell_type": "code",
      "metadata": {
        "colab": {
          "base_uri": "https://localhost:8080/"
        },
        "id": "GHXsiA-bLXfq",
        "outputId": "42dcf1e6-d5f5-410b-d2d1-ca0377148501"
      },
      "source": [
        "models = [ ]\n",
        "\n",
        "for train_index, val_index in kf.split(train_X):\n",
        "  X_train =train_X.iloc[train_index]\n",
        "  X_valid =train_X.iloc[val_index]\n",
        "  y_train =train_Y.iloc[train_index]\n",
        "  y_valid =train_Y.iloc[val_index]\n",
        "\n",
        "  lgb_train = lgb.Dataset(X_train, y_train, categorical_feature=categories)\n",
        "  lgb_eval = lgb.Dataset(X_valid, y_valid, categorical_feature=categories, reference=lgb_train)\n",
        "\n",
        "  model_lgb = lgb.train(lgbm_params,\n",
        "                      lgb_train,\n",
        "                      valid_sets=lgb_eval,\n",
        "                      num_boost_round=1000,\n",
        "                      early_stopping_rounds=50,\n",
        "                      verbose_eval=10)\n",
        "  \n",
        "  y_pred = model_lgb.predict(X_valid, num_iiteration=model_lgb.best_iteration)\n",
        "  print(accuracy_score(y_valid, np.round(y_pred)))\n",
        "\n",
        "  models.append(model_lgb)"
      ],
      "execution_count": 30,
      "outputs": [
        {
          "output_type": "stream",
          "text": [
            "/usr/local/lib/python3.6/dist-packages/lightgbm/engine.py:118: UserWarning:\n",
            "\n",
            "Found `n_estimators` in params. Will use it instead of argument\n",
            "\n",
            "/usr/local/lib/python3.6/dist-packages/lightgbm/basic.py:1205: UserWarning:\n",
            "\n",
            "Using categorical_feature in Dataset.\n",
            "\n",
            "/usr/local/lib/python3.6/dist-packages/lightgbm/basic.py:762: UserWarning:\n",
            "\n",
            "categorical_feature in param dict is overridden.\n",
            "\n"
          ],
          "name": "stderr"
        },
        {
          "output_type": "stream",
          "text": [
            "Training until validation scores don't improve for 50 rounds.\n",
            "[10]\tvalid_0's l2: 0.137797\n",
            "[20]\tvalid_0's l2: 0.119983\n",
            "[30]\tvalid_0's l2: 0.112842\n",
            "[40]\tvalid_0's l2: 0.109742\n",
            "[50]\tvalid_0's l2: 0.109214\n",
            "[60]\tvalid_0's l2: 0.109377\n",
            "[70]\tvalid_0's l2: 0.109106\n",
            "[80]\tvalid_0's l2: 0.108893\n",
            "[90]\tvalid_0's l2: 0.109061\n",
            "[100]\tvalid_0's l2: 0.109441\n",
            "[110]\tvalid_0's l2: 0.109389\n",
            "[120]\tvalid_0's l2: 0.109671\n",
            "[130]\tvalid_0's l2: 0.1097\n",
            "Early stopping, best iteration is:\n",
            "[81]\tvalid_0's l2: 0.108891\n",
            "0.8470588235294118\n",
            "Training until validation scores don't improve for 50 rounds.\n",
            "[10]\tvalid_0's l2: 0.145266\n",
            "[20]\tvalid_0's l2: 0.125595\n",
            "[30]\tvalid_0's l2: 0.117998\n",
            "[40]\tvalid_0's l2: 0.114769\n",
            "[50]\tvalid_0's l2: 0.113563\n",
            "[60]\tvalid_0's l2: 0.113719\n",
            "[70]\tvalid_0's l2: 0.114017\n",
            "[80]\tvalid_0's l2: 0.114472\n",
            "[90]\tvalid_0's l2: 0.115038\n",
            "[100]\tvalid_0's l2: 0.115093\n",
            "Early stopping, best iteration is:\n",
            "[52]\tvalid_0's l2: 0.11346\n",
            "0.834873949579832\n",
            "Training until validation scores don't improve for 50 rounds.\n",
            "[10]\tvalid_0's l2: 0.139707\n",
            "[20]\tvalid_0's l2: 0.119935\n",
            "[30]\tvalid_0's l2: 0.112136\n",
            "[40]\tvalid_0's l2: 0.109313\n",
            "[50]\tvalid_0's l2: 0.108716\n",
            "[60]\tvalid_0's l2: 0.108913\n",
            "[70]\tvalid_0's l2: 0.108852\n",
            "[80]\tvalid_0's l2: 0.109003\n",
            "[90]\tvalid_0's l2: 0.109326\n",
            "[100]\tvalid_0's l2: 0.109435\n",
            "Early stopping, best iteration is:\n",
            "[53]\tvalid_0's l2: 0.108581\n",
            "0.846218487394958\n",
            "Training until validation scores don't improve for 50 rounds.\n",
            "[10]\tvalid_0's l2: 0.142472\n",
            "[20]\tvalid_0's l2: 0.12387\n",
            "[30]\tvalid_0's l2: 0.116663\n",
            "[40]\tvalid_0's l2: 0.113889\n",
            "[50]\tvalid_0's l2: 0.113463\n",
            "[60]\tvalid_0's l2: 0.113484\n",
            "[70]\tvalid_0's l2: 0.113789\n",
            "[80]\tvalid_0's l2: 0.114048\n",
            "[90]\tvalid_0's l2: 0.114441\n",
            "[100]\tvalid_0's l2: 0.11481\n",
            "Early stopping, best iteration is:\n",
            "[56]\tvalid_0's l2: 0.113296\n",
            "0.8361344537815126\n",
            "Training until validation scores don't improve for 50 rounds.\n",
            "[10]\tvalid_0's l2: 0.137622\n",
            "[20]\tvalid_0's l2: 0.118841\n",
            "[30]\tvalid_0's l2: 0.111984\n",
            "[40]\tvalid_0's l2: 0.108698\n",
            "[50]\tvalid_0's l2: 0.107492\n",
            "[60]\tvalid_0's l2: 0.106795\n",
            "[70]\tvalid_0's l2: 0.106659\n",
            "[80]\tvalid_0's l2: 0.106755\n",
            "[90]\tvalid_0's l2: 0.107294\n",
            "[100]\tvalid_0's l2: 0.107492\n",
            "[110]\tvalid_0's l2: 0.107378\n",
            "Early stopping, best iteration is:\n",
            "[68]\tvalid_0's l2: 0.106605\n",
            "0.8483193277310924\n"
          ],
          "name": "stdout"
        }
      ]
    },
    {
      "cell_type": "code",
      "metadata": {
        "colab": {
          "base_uri": "https://localhost:8080/"
        },
        "id": "GWFgEZaVF6zD",
        "outputId": "ab82b092-9a1a-4228-cc0c-e35848dca9c3"
      },
      "source": [
        "model_lgb.feature_importance()"
      ],
      "execution_count": 31,
      "outputs": [
        {
          "output_type": "execute_result",
          "data": {
            "text/plain": [
              "array([1368,   80,   77,  142,  868,   60,  304,   68,  292,  345,    0])"
            ]
          },
          "metadata": {
            "tags": []
          },
          "execution_count": 31
        }
      ]
    },
    {
      "cell_type": "code",
      "metadata": {
        "colab": {
          "base_uri": "https://localhost:8080/",
          "height": 282
        },
        "id": "Fepz3SAzGGyo",
        "outputId": "ad1c1c60-41d0-4a7a-94ca-b457bc7282a6"
      },
      "source": [
        "importance = pd.DataFrame(model_lgb.feature_importance(), \n",
        "                          index=X_train.columns, columns=[\"importance\"]).sort_values(by=\"importance\",ascending =True)\n",
        "importance.plot.barh()"
      ],
      "execution_count": 32,
      "outputs": [
        {
          "output_type": "execute_result",
          "data": {
            "text/plain": [
              "<matplotlib.axes._subplots.AxesSubplot at 0x7f2ab37daeb8>"
            ]
          },
          "metadata": {
            "tags": []
          },
          "execution_count": 32
        },
        {
          "output_type": "display_data",
          "data": {
            "image/png": "[encoded data removed]",
            "text/plain": [
              "<Figure size 432x288 with 1 Axes>"
            ]
          },
          "metadata": {
            "tags": [],
            "needs_background": "light"
          }
        }
      ]
    },
    {
      "cell_type": "code",
      "metadata": {
        "id": "-frSAsgNOws4"
      },
      "source": [
        "preds = [ ]\n",
        "\n",
        "for model in models:\n",
        "  pred = model.predict(test_X)\n",
        "  preds.append(pred)"
      ],
      "execution_count": 33,
      "outputs": []
    },
    {
      "cell_type": "code",
      "metadata": {
        "id": "rP-cJgfZPQDB"
      },
      "source": [
        "preds_array = np.array(preds)\n",
        "preds_mean = np.mean(preds_array, axis=0)"
      ],
      "execution_count": 34,
      "outputs": []
    },
    {
      "cell_type": "code",
      "metadata": {
        "colab": {
          "base_uri": "https://localhost:8080/"
        },
        "id": "SxncoX24V4ml",
        "outputId": "563bfd8c-0def-4ed2-bff4-04f666b8a4d6"
      },
      "source": [
        "preds_mean"
      ],
      "execution_count": 35,
      "outputs": [
        {
          "output_type": "execute_result",
          "data": {
            "text/plain": [
              "array([0.67896141, 0.31626412, 0.01050413, ..., 0.27946219, 0.05110531,\n",
              "       0.7361349 ])"
            ]
          },
          "metadata": {
            "tags": []
          },
          "execution_count": 35
        }
      ]
    },
    {
      "cell_type": "code",
      "metadata": {
        "id": "Ul0IiajePsQo"
      },
      "source": [
        "preds_int = (preds_mean > 0.5).astype(int)"
      ],
      "execution_count": 36,
      "outputs": []
    },
    {
      "cell_type": "code",
      "metadata": {
        "colab": {
          "base_uri": "https://localhost:8080/"
        },
        "id": "4_qxAjSQUNjq",
        "outputId": "d76b3f78-e4eb-4923-e01a-97076f168523"
      },
      "source": [
        "preds_int"
      ],
      "execution_count": 37,
      "outputs": [
        {
          "output_type": "execute_result",
          "data": {
            "text/plain": [
              "array([1, 0, 0, ..., 0, 0, 1])"
            ]
          },
          "metadata": {
            "tags": []
          },
          "execution_count": 37
        }
      ]
    },
    {
      "cell_type": "code",
      "metadata": {
        "colab": {
          "base_uri": "https://localhost:8080/",
          "height": 419
        },
        "id": "Byl_S1-AUWoQ",
        "outputId": "dacc3cfc-2656-46c5-d9fb-243fa675d76b"
      },
      "source": [
        "submission"
      ],
      "execution_count": 38,
      "outputs": [
        {
          "output_type": "execute_result",
          "data": {
            "text/html": [
              "<div>\n",
              "<style scoped>\n",
              "    .dataframe tbody tr th:only-of-type {\n",
              "        vertical-align: middle;\n",
              "    }\n",
              "\n",
              "    .dataframe tbody tr th {\n",
              "        vertical-align: top;\n",
              "    }\n",
              "\n",
              "    .dataframe thead th {\n",
              "        text-align: right;\n",
              "    }\n",
              "</style>\n",
              "<table border=\"1\" class=\"dataframe\">\n",
              "  <thead>\n",
              "    <tr style=\"text-align: right;\">\n",
              "      <th></th>\n",
              "      <th>3873</th>\n",
              "      <th>0</th>\n",
              "    </tr>\n",
              "  </thead>\n",
              "  <tbody>\n",
              "    <tr>\n",
              "      <th>0</th>\n",
              "      <td>3625</td>\n",
              "      <td>0</td>\n",
              "    </tr>\n",
              "    <tr>\n",
              "      <th>1</th>\n",
              "      <td>3028</td>\n",
              "      <td>0</td>\n",
              "    </tr>\n",
              "    <tr>\n",
              "      <th>2</th>\n",
              "      <td>13814</td>\n",
              "      <td>0</td>\n",
              "    </tr>\n",
              "    <tr>\n",
              "      <th>3</th>\n",
              "      <td>15398</td>\n",
              "      <td>0</td>\n",
              "    </tr>\n",
              "    <tr>\n",
              "      <th>4</th>\n",
              "      <td>13244</td>\n",
              "      <td>0</td>\n",
              "    </tr>\n",
              "    <tr>\n",
              "      <th>...</th>\n",
              "      <td>...</td>\n",
              "      <td>...</td>\n",
              "    </tr>\n",
              "    <tr>\n",
              "      <th>5094</th>\n",
              "      <td>6726</td>\n",
              "      <td>0</td>\n",
              "    </tr>\n",
              "    <tr>\n",
              "      <th>5095</th>\n",
              "      <td>1501</td>\n",
              "      <td>0</td>\n",
              "    </tr>\n",
              "    <tr>\n",
              "      <th>5096</th>\n",
              "      <td>6391</td>\n",
              "      <td>0</td>\n",
              "    </tr>\n",
              "    <tr>\n",
              "      <th>5097</th>\n",
              "      <td>7104</td>\n",
              "      <td>0</td>\n",
              "    </tr>\n",
              "    <tr>\n",
              "      <th>5098</th>\n",
              "      <td>4214</td>\n",
              "      <td>0</td>\n",
              "    </tr>\n",
              "  </tbody>\n",
              "</table>\n",
              "<p>5099 rows × 2 columns</p>\n",
              "</div>"
            ],
            "text/plain": [
              "       3873  0\n",
              "0      3625  0\n",
              "1      3028  0\n",
              "2     13814  0\n",
              "3     15398  0\n",
              "4     13244  0\n",
              "...     ... ..\n",
              "5094   6726  0\n",
              "5095   1501  0\n",
              "5096   6391  0\n",
              "5097   7104  0\n",
              "5098   4214  0\n",
              "\n",
              "[5099 rows x 2 columns]"
            ]
          },
          "metadata": {
            "tags": []
          },
          "execution_count": 38
        }
      ]
    },
    {
      "cell_type": "code",
      "metadata": {
        "colab": {
          "base_uri": "https://localhost:8080/"
        },
        "id": "2npByYD_YgJb",
        "outputId": "989e82a1-929d-42fa-9f33-f679ae2bf1dc"
      },
      "source": [
        "test[\"index\"]"
      ],
      "execution_count": 39,
      "outputs": [
        {
          "output_type": "execute_result",
          "data": {
            "text/plain": [
              "0        3873\n",
              "1        3625\n",
              "2        3028\n",
              "3       13814\n",
              "4       15398\n",
              "        ...  \n",
              "5095     6726\n",
              "5096     1501\n",
              "5097     6391\n",
              "5098     7104\n",
              "5099     4214\n",
              "Name: index, Length: 5100, dtype: int64"
            ]
          },
          "metadata": {
            "tags": []
          },
          "execution_count": 39
        }
      ]
    },
    {
      "cell_type": "code",
      "metadata": {
        "id": "lugSKwXjcDOc"
      },
      "source": [
        "soution=pd.DataFrame(preds_int, columns = [\"submission\"])"
      ],
      "execution_count": 40,
      "outputs": []
    },
    {
      "cell_type": "code",
      "metadata": {
        "id": "rXpgK1-kXg42"
      },
      "source": [
        "solution = pd.DataFrame({\"index\":test[\"index\"], \"Y\":preds_int})"
      ],
      "execution_count": 41,
      "outputs": []
    },
    {
      "cell_type": "code",
      "metadata": {
        "colab": {
          "base_uri": "https://localhost:8080/"
        },
        "id": "X_hJwGKTlqBQ",
        "outputId": "01c4e0f0-7517-4edb-ed6c-8d0251a9d3d1"
      },
      "source": [
        "solution[\"Y\"].value_counts()"
      ],
      "execution_count": 42,
      "outputs": [
        {
          "output_type": "execute_result",
          "data": {
            "text/plain": [
              "0    3919\n",
              "1    1181\n",
              "Name: Y, dtype: int64"
            ]
          },
          "metadata": {
            "tags": []
          },
          "execution_count": 42
        }
      ]
    },
    {
      "cell_type": "code",
      "metadata": {
        "id": "AvZ3VVxWfOnL"
      },
      "source": [
        "# solution.to_csv('./submit2.csv', index=False,header=False)"
      ],
      "execution_count": 43,
      "outputs": []
    },
    {
      "cell_type": "code",
      "metadata": {
        "colab": {
          "base_uri": "https://localhost:8080/",
          "height": 419
        },
        "id": "bu47rCLJWE0L",
        "outputId": "022f12c1-78a8-40f8-dead-44d50504b780"
      },
      "source": [
        "solution"
      ],
      "execution_count": 44,
      "outputs": [
        {
          "output_type": "execute_result",
          "data": {
            "text/html": [
              "<div>\n",
              "<style scoped>\n",
              "    .dataframe tbody tr th:only-of-type {\n",
              "        vertical-align: middle;\n",
              "    }\n",
              "\n",
              "    .dataframe tbody tr th {\n",
              "        vertical-align: top;\n",
              "    }\n",
              "\n",
              "    .dataframe thead th {\n",
              "        text-align: right;\n",
              "    }\n",
              "</style>\n",
              "<table border=\"1\" class=\"dataframe\">\n",
              "  <thead>\n",
              "    <tr style=\"text-align: right;\">\n",
              "      <th></th>\n",
              "      <th>index</th>\n",
              "      <th>Y</th>\n",
              "    </tr>\n",
              "  </thead>\n",
              "  <tbody>\n",
              "    <tr>\n",
              "      <th>0</th>\n",
              "      <td>3873</td>\n",
              "      <td>1</td>\n",
              "    </tr>\n",
              "    <tr>\n",
              "      <th>1</th>\n",
              "      <td>3625</td>\n",
              "      <td>0</td>\n",
              "    </tr>\n",
              "    <tr>\n",
              "      <th>2</th>\n",
              "      <td>3028</td>\n",
              "      <td>0</td>\n",
              "    </tr>\n",
              "    <tr>\n",
              "      <th>3</th>\n",
              "      <td>13814</td>\n",
              "      <td>0</td>\n",
              "    </tr>\n",
              "    <tr>\n",
              "      <th>4</th>\n",
              "      <td>15398</td>\n",
              "      <td>1</td>\n",
              "    </tr>\n",
              "    <tr>\n",
              "      <th>...</th>\n",
              "      <td>...</td>\n",
              "      <td>...</td>\n",
              "    </tr>\n",
              "    <tr>\n",
              "      <th>5095</th>\n",
              "      <td>6726</td>\n",
              "      <td>0</td>\n",
              "    </tr>\n",
              "    <tr>\n",
              "      <th>5096</th>\n",
              "      <td>1501</td>\n",
              "      <td>0</td>\n",
              "    </tr>\n",
              "    <tr>\n",
              "      <th>5097</th>\n",
              "      <td>6391</td>\n",
              "      <td>0</td>\n",
              "    </tr>\n",
              "    <tr>\n",
              "      <th>5098</th>\n",
              "      <td>7104</td>\n",
              "      <td>0</td>\n",
              "    </tr>\n",
              "    <tr>\n",
              "      <th>5099</th>\n",
              "      <td>4214</td>\n",
              "      <td>1</td>\n",
              "    </tr>\n",
              "  </tbody>\n",
              "</table>\n",
              "<p>5100 rows × 2 columns</p>\n",
              "</div>"
            ],
            "text/plain": [
              "      index  Y\n",
              "0      3873  1\n",
              "1      3625  0\n",
              "2      3028  0\n",
              "3     13814  0\n",
              "4     15398  1\n",
              "...     ... ..\n",
              "5095   6726  0\n",
              "5096   1501  0\n",
              "5097   6391  0\n",
              "5098   7104  0\n",
              "5099   4214  1\n",
              "\n",
              "[5100 rows x 2 columns]"
            ]
          },
          "metadata": {
            "tags": []
          },
          "execution_count": 44
        }
      ]
    },
    {
      "cell_type": "code",
      "metadata": {
        "id": "Ooxkx2KTWQxw"
      },
      "source": [
        "import xgboost as xgb"
      ],
      "execution_count": 45,
      "outputs": []
    },
    {
      "cell_type": "code",
      "metadata": {
        "colab": {
          "base_uri": "https://localhost:8080/"
        },
        "id": "YvHdPJ6eWSOZ",
        "outputId": "533f4b80-85b1-40f5-f23d-2a9cac403851"
      },
      "source": [
        "categories"
      ],
      "execution_count": 46,
      "outputs": [
        {
          "output_type": "execute_result",
          "data": {
            "text/plain": [
              "['workclass',\n",
              " 'education',\n",
              " 'marital-status',\n",
              " 'occupation',\n",
              " 'relationship',\n",
              " 'race',\n",
              " 'sex',\n",
              " 'native-country']"
            ]
          },
          "metadata": {
            "tags": []
          },
          "execution_count": 46
        }
      ]
    },
    {
      "cell_type": "code",
      "metadata": {
        "colab": {
          "base_uri": "https://localhost:8080/"
        },
        "id": "l_rILU7vWgAX",
        "outputId": "a79e145d-2e7d-45f9-bb41-9e7f7edd22ea"
      },
      "source": [
        "for col in categories:\n",
        "  train_X[col] = train_X[col].astype(\"int8\")\n",
        "  test_X[col]  = test_X[col].astype(\"int8\")"
      ],
      "execution_count": 47,
      "outputs": [
        {
          "output_type": "stream",
          "text": [
            "/usr/local/lib/python3.6/dist-packages/ipykernel_launcher.py:2: SettingWithCopyWarning:\n",
            "\n",
            "\n",
            "A value is trying to be set on a copy of a slice from a DataFrame.\n",
            "Try using .loc[row_indexer,col_indexer] = value instead\n",
            "\n",
            "See the caveats in the documentation: https://pandas.pydata.org/pandas-docs/stable/user_guide/indexing.html#returning-a-view-versus-a-copy\n",
            "\n",
            "/usr/local/lib/python3.6/dist-packages/ipykernel_launcher.py:3: SettingWithCopyWarning:\n",
            "\n",
            "\n",
            "A value is trying to be set on a copy of a slice from a DataFrame.\n",
            "Try using .loc[row_indexer,col_indexer] = value instead\n",
            "\n",
            "See the caveats in the documentation: https://pandas.pydata.org/pandas-docs/stable/user_guide/indexing.html#returning-a-view-versus-a-copy\n",
            "\n"
          ],
          "name": "stderr"
        }
      ]
    },
    {
      "cell_type": "code",
      "metadata": {
        "id": "5iYV9MTmW1R5"
      },
      "source": [
        "xgb_params = {\n",
        "    \"learning_rate\":0.05,\n",
        "    \"seed\":1234,\n",
        "    \"max_depth\":7,\n",
        "    \"colsample_bytree\":0.6244752498895471,\n",
        "    \"sublsample\":0.21343523881653348,\n",
        "    }"
      ],
      "execution_count": 48,
      "outputs": []
    },
    {
      "cell_type": "code",
      "metadata": {
        "colab": {
          "base_uri": "https://localhost:8080/"
        },
        "id": "rdly4N-lW8or",
        "outputId": "d9cf6dc8-a3a7-4ff6-dd51-3a2f574f7bc7"
      },
      "source": [
        "models_xgb = [ ]\n",
        "rmses_xgb = [ ]\n",
        "oof_xgb = np.zeros(len(train_X))\n",
        "\n",
        "for train_index, val_index in kf.split(train_X):\n",
        "  X_train = train_X.iloc[train_index]\n",
        "  X_valid = train_X.iloc[val_index]\n",
        "  y_train = train_Y.iloc[train_index]\n",
        "  y_valid = train_Y.iloc[val_index]\n",
        "\n",
        "  xgb_train = xgb.DMatrix(X_train, label=y_train)\n",
        "  xgb_eval = xgb.DMatrix(X_valid, label=y_valid)\n",
        "  evals = [(xgb_train, \"train\"), (xgb_eval, \"eval\")]\n",
        "\n",
        "  model_xgb = xgb.train(xgb_params,\n",
        "                        xgb_train,\n",
        "                        evals=evals,\n",
        "                        num_boost_round=1000,\n",
        "                        early_stopping_rounds=50,\n",
        "                        verbose_eval=20,)\n",
        "\n",
        "  y_pred = model_xgb.predict(xgb_eval)\n",
        "  print(accuracy_score(y_valid, np.round(y_pred)))\n",
        "\n",
        "  models_xgb.append(model_xgb)\n",
        "  oof_xgb[val_index] = y_pred\n"
      ],
      "execution_count": 49,
      "outputs": [
        {
          "output_type": "stream",
          "text": [
            "[0]\ttrain-rmse:0.487204\teval-rmse:0.487365\n",
            "Multiple eval metrics have been passed: 'eval-rmse' will be used for early stopping.\n",
            "\n",
            "Will train until eval-rmse hasn't improved in 50 rounds.\n",
            "[20]\ttrain-rmse:0.35562\teval-rmse:0.36114\n",
            "[40]\ttrain-rmse:0.32472\teval-rmse:0.336033\n",
            "[60]\ttrain-rmse:0.314922\teval-rmse:0.330867\n",
            "[80]\ttrain-rmse:0.309387\teval-rmse:0.330231\n",
            "[100]\ttrain-rmse:0.305803\teval-rmse:0.330232\n",
            "[120]\ttrain-rmse:0.303232\teval-rmse:0.330377\n",
            "[140]\ttrain-rmse:0.301243\teval-rmse:0.330465\n",
            "Stopping. Best iteration:\n",
            "[91]\ttrain-rmse:0.307187\teval-rmse:0.330152\n",
            "\n",
            "0.8466386554621849\n",
            "[0]\ttrain-rmse:0.487069\teval-rmse:0.487686\n",
            "Multiple eval metrics have been passed: 'eval-rmse' will be used for early stopping.\n",
            "\n",
            "Will train until eval-rmse hasn't improved in 50 rounds.\n",
            "[20]\ttrain-rmse:0.353956\teval-rmse:0.366561\n",
            "[40]\ttrain-rmse:0.322697\teval-rmse:0.343685\n",
            "[60]\ttrain-rmse:0.312845\teval-rmse:0.339718\n",
            "[80]\ttrain-rmse:0.307328\teval-rmse:0.339551\n",
            "[100]\ttrain-rmse:0.304069\teval-rmse:0.340036\n",
            "[120]\ttrain-rmse:0.301688\teval-rmse:0.340347\n",
            "Stopping. Best iteration:\n",
            "[78]\ttrain-rmse:0.307753\teval-rmse:0.339545\n",
            "\n",
            "0.8298319327731093\n",
            "[0]\ttrain-rmse:0.487068\teval-rmse:0.487455\n",
            "Multiple eval metrics have been passed: 'eval-rmse' will be used for early stopping.\n",
            "\n",
            "Will train until eval-rmse hasn't improved in 50 rounds.\n",
            "[20]\ttrain-rmse:0.356318\teval-rmse:0.361025\n",
            "[40]\ttrain-rmse:0.325574\teval-rmse:0.335415\n",
            "[60]\ttrain-rmse:0.315422\teval-rmse:0.330216\n",
            "[80]\ttrain-rmse:0.310124\teval-rmse:0.329479\n",
            "[100]\ttrain-rmse:0.306722\teval-rmse:0.329836\n",
            "[120]\ttrain-rmse:0.304467\teval-rmse:0.330226\n",
            "Stopping. Best iteration:\n",
            "[83]\ttrain-rmse:0.309623\teval-rmse:0.329445\n",
            "\n",
            "0.8457983193277311\n",
            "[0]\ttrain-rmse:0.486982\teval-rmse:0.487288\n",
            "Multiple eval metrics have been passed: 'eval-rmse' will be used for early stopping.\n",
            "\n",
            "Will train until eval-rmse hasn't improved in 50 rounds.\n",
            "[20]\ttrain-rmse:0.354166\teval-rmse:0.365196\n",
            "[40]\ttrain-rmse:0.323121\teval-rmse:0.342032\n",
            "[60]\ttrain-rmse:0.312949\teval-rmse:0.338147\n",
            "[80]\ttrain-rmse:0.307453\teval-rmse:0.337523\n",
            "[100]\ttrain-rmse:0.304368\teval-rmse:0.338081\n",
            "[120]\ttrain-rmse:0.301976\teval-rmse:0.338613\n",
            "Stopping. Best iteration:\n",
            "[80]\ttrain-rmse:0.307453\teval-rmse:0.337523\n",
            "\n",
            "0.834873949579832\n",
            "[0]\ttrain-rmse:0.487179\teval-rmse:0.487277\n",
            "Multiple eval metrics have been passed: 'eval-rmse' will be used for early stopping.\n",
            "\n",
            "Will train until eval-rmse hasn't improved in 50 rounds.\n",
            "[20]\ttrain-rmse:0.356361\teval-rmse:0.358784\n",
            "[40]\ttrain-rmse:0.325802\teval-rmse:0.333003\n",
            "[60]\ttrain-rmse:0.315992\teval-rmse:0.328006\n",
            "[80]\ttrain-rmse:0.310592\teval-rmse:0.327706\n",
            "[100]\ttrain-rmse:0.307199\teval-rmse:0.328092\n",
            "Stopping. Best iteration:\n",
            "[68]\ttrain-rmse:0.31313\teval-rmse:0.327593\n",
            "\n",
            "0.846218487394958\n"
          ],
          "name": "stdout"
        }
      ]
    },
    {
      "cell_type": "code",
      "metadata": {
        "colab": {
          "base_uri": "https://localhost:8080/"
        },
        "id": "nVyLT6PnXEIQ",
        "outputId": "3b579d31-3569-4e88-e874-7d6e82762d8e"
      },
      "source": [
        "models_xgb"
      ],
      "execution_count": 50,
      "outputs": [
        {
          "output_type": "execute_result",
          "data": {
            "text/plain": [
              "[<xgboost.core.Booster at 0x7f2ab31f40f0>,\n",
              " <xgboost.core.Booster at 0x7f2ab374ff60>,\n",
              " <xgboost.core.Booster at 0x7f2ab31eceb8>,\n",
              " <xgboost.core.Booster at 0x7f2ab3805fd0>,\n",
              " <xgboost.core.Booster at 0x7f2ab3805eb8>]"
            ]
          },
          "metadata": {
            "tags": []
          },
          "execution_count": 50
        }
      ]
    },
    {
      "cell_type": "code",
      "metadata": {
        "id": "lD17GvlfXJ6I"
      },
      "source": [
        "xgb_test = xgb.DMatrix(test_X)"
      ],
      "execution_count": 51,
      "outputs": []
    },
    {
      "cell_type": "code",
      "metadata": {
        "colab": {
          "base_uri": "https://localhost:8080/"
        },
        "id": "7bpuujIDXK2Q",
        "outputId": "041292c8-2b56-4257-c053-0f55ac771d34"
      },
      "source": [
        "xgb_test"
      ],
      "execution_count": 52,
      "outputs": [
        {
          "output_type": "execute_result",
          "data": {
            "text/plain": [
              "<xgboost.core.DMatrix at 0x7f2ab31ec4a8>"
            ]
          },
          "metadata": {
            "tags": []
          },
          "execution_count": 52
        }
      ]
    },
    {
      "cell_type": "code",
      "metadata": {
        "id": "rdnDu6WIXOYM"
      },
      "source": [
        "preds_xgb = [ ]\n",
        "for model in models_xgb:\n",
        "  pred = model.predict(xgb_test)\n",
        "  preds_xgb.append(pred)"
      ],
      "execution_count": 53,
      "outputs": []
    },
    {
      "cell_type": "code",
      "metadata": {
        "id": "B-ztWFh8XVC3"
      },
      "source": [
        "preds_array_xgb = np.array(preds_xgb)\n",
        "preds_mean_xgb = np.mean(preds_array_xgb, axis=0)"
      ],
      "execution_count": 54,
      "outputs": []
    },
    {
      "cell_type": "code",
      "metadata": {
        "colab": {
          "base_uri": "https://localhost:8080/"
        },
        "id": "WYDb0ym1XfXO",
        "outputId": "2a197de2-6c7f-4896-e325-13ad7bb156b6"
      },
      "source": [
        "preds_mean_xgb"
      ],
      "execution_count": 55,
      "outputs": [
        {
          "output_type": "execute_result",
          "data": {
            "text/plain": [
              "array([ 0.7191309 ,  0.34906632, -0.00553032, ...,  0.30858457,\n",
              "        0.07022072,  0.7023892 ], dtype=float32)"
            ]
          },
          "metadata": {
            "tags": []
          },
          "execution_count": 55
        }
      ]
    },
    {
      "cell_type": "code",
      "metadata": {
        "id": "JpBh_ooaXs1X"
      },
      "source": [
        "preds_ans = preds_mean * 0.5 + preds_mean_xgb * 0.5"
      ],
      "execution_count": 56,
      "outputs": []
    },
    {
      "cell_type": "code",
      "metadata": {
        "colab": {
          "base_uri": "https://localhost:8080/"
        },
        "id": "COBBP5DTYGMl",
        "outputId": "9e44fe17-943e-466f-ae81-2bfe77c7b2c1"
      },
      "source": [
        "preds_ans"
      ],
      "execution_count": 57,
      "outputs": [
        {
          "output_type": "execute_result",
          "data": {
            "text/plain": [
              "array([0.69904614, 0.33266522, 0.00248691, ..., 0.29402338, 0.06066301,\n",
              "       0.71926204])"
            ]
          },
          "metadata": {
            "tags": []
          },
          "execution_count": 57
        }
      ]
    },
    {
      "cell_type": "code",
      "metadata": {
        "id": "ye56-l9_Yv-8"
      },
      "source": [
        "preds_a = (preds_ans > 0.5).astype(int)"
      ],
      "execution_count": 58,
      "outputs": []
    },
    {
      "cell_type": "code",
      "metadata": {
        "colab": {
          "base_uri": "https://localhost:8080/"
        },
        "id": "7JXnzR1xZIEl",
        "outputId": "86751c10-67c4-4d5e-8a62-3d281c6c08b3"
      },
      "source": [
        "preds_a"
      ],
      "execution_count": 59,
      "outputs": [
        {
          "output_type": "execute_result",
          "data": {
            "text/plain": [
              "array([1, 0, 0, ..., 0, 0, 1])"
            ]
          },
          "metadata": {
            "tags": []
          },
          "execution_count": 59
        }
      ]
    },
    {
      "cell_type": "code",
      "metadata": {
        "id": "GkJwOL85a39I"
      },
      "source": [
        "soution_ans=pd.DataFrame(preds_int, columns = [\"submission\"])"
      ],
      "execution_count": 60,
      "outputs": []
    },
    {
      "cell_type": "code",
      "metadata": {
        "id": "VevZz_JkbAng"
      },
      "source": [
        "solution_ans = pd.DataFrame({\"index\":test[\"index\"], \"Y\":preds_a})"
      ],
      "execution_count": 61,
      "outputs": []
    },
    {
      "cell_type": "code",
      "metadata": {
        "colab": {
          "base_uri": "https://localhost:8080/"
        },
        "id": "rlKaIihGbK0r",
        "outputId": "88641937-3286-46a5-b621-cb570ce351cb"
      },
      "source": [
        "solution_ans[\"Y\"].value_counts()"
      ],
      "execution_count": 62,
      "outputs": [
        {
          "output_type": "execute_result",
          "data": {
            "text/plain": [
              "0    3901\n",
              "1    1199\n",
              "Name: Y, dtype: int64"
            ]
          },
          "metadata": {
            "tags": []
          },
          "execution_count": 62
        }
      ]
    },
    {
      "cell_type": "code",
      "metadata": {
        "id": "LZLMxd4Nbpve"
      },
      "source": [
        "solution_ans.to_csv('./submit_ans.csv', index=False,header=False)"
      ],
      "execution_count": 63,
      "outputs": []
    },
    {
      "cell_type": "code",
      "metadata": {
        "colab": {
          "base_uri": "https://localhost:8080/",
          "height": 419
        },
        "id": "7gWYGdQMbxGO",
        "outputId": "e55ab04f-e619-4d27-ebae-7c817fa3eaf4"
      },
      "source": [
        "solution_ans"
      ],
      "execution_count": 64,
      "outputs": [
        {
          "output_type": "execute_result",
          "data": {
            "text/html": [
              "<div>\n",
              "<style scoped>\n",
              "    .dataframe tbody tr th:only-of-type {\n",
              "        vertical-align: middle;\n",
              "    }\n",
              "\n",
              "    .dataframe tbody tr th {\n",
              "        vertical-align: top;\n",
              "    }\n",
              "\n",
              "    .dataframe thead th {\n",
              "        text-align: right;\n",
              "    }\n",
              "</style>\n",
              "<table border=\"1\" class=\"dataframe\">\n",
              "  <thead>\n",
              "    <tr style=\"text-align: right;\">\n",
              "      <th></th>\n",
              "      <th>index</th>\n",
              "      <th>Y</th>\n",
              "    </tr>\n",
              "  </thead>\n",
              "  <tbody>\n",
              "    <tr>\n",
              "      <th>0</th>\n",
              "      <td>3873</td>\n",
              "      <td>1</td>\n",
              "    </tr>\n",
              "    <tr>\n",
              "      <th>1</th>\n",
              "      <td>3625</td>\n",
              "      <td>0</td>\n",
              "    </tr>\n",
              "    <tr>\n",
              "      <th>2</th>\n",
              "      <td>3028</td>\n",
              "      <td>0</td>\n",
              "    </tr>\n",
              "    <tr>\n",
              "      <th>3</th>\n",
              "      <td>13814</td>\n",
              "      <td>0</td>\n",
              "    </tr>\n",
              "    <tr>\n",
              "      <th>4</th>\n",
              "      <td>15398</td>\n",
              "      <td>1</td>\n",
              "    </tr>\n",
              "    <tr>\n",
              "      <th>...</th>\n",
              "      <td>...</td>\n",
              "      <td>...</td>\n",
              "    </tr>\n",
              "    <tr>\n",
              "      <th>5095</th>\n",
              "      <td>6726</td>\n",
              "      <td>0</td>\n",
              "    </tr>\n",
              "    <tr>\n",
              "      <th>5096</th>\n",
              "      <td>1501</td>\n",
              "      <td>0</td>\n",
              "    </tr>\n",
              "    <tr>\n",
              "      <th>5097</th>\n",
              "      <td>6391</td>\n",
              "      <td>0</td>\n",
              "    </tr>\n",
              "    <tr>\n",
              "      <th>5098</th>\n",
              "      <td>7104</td>\n",
              "      <td>0</td>\n",
              "    </tr>\n",
              "    <tr>\n",
              "      <th>5099</th>\n",
              "      <td>4214</td>\n",
              "      <td>1</td>\n",
              "    </tr>\n",
              "  </tbody>\n",
              "</table>\n",
              "<p>5100 rows × 2 columns</p>\n",
              "</div>"
            ],
            "text/plain": [
              "      index  Y\n",
              "0      3873  1\n",
              "1      3625  0\n",
              "2      3028  0\n",
              "3     13814  0\n",
              "4     15398  1\n",
              "...     ... ..\n",
              "5095   6726  0\n",
              "5096   1501  0\n",
              "5097   6391  0\n",
              "5098   7104  0\n",
              "5099   4214  1\n",
              "\n",
              "[5100 rows x 2 columns]"
            ]
          },
          "metadata": {
            "tags": []
          },
          "execution_count": 64
        }
      ]
    }
  ]
}